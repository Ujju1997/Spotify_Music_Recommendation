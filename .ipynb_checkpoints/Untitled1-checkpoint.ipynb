{
 "cells": [
  {
   "cell_type": "code",
   "execution_count": 1,
   "id": "374ffdfc",
   "metadata": {},
   "outputs": [],
   "source": [
    "import webbrowser\n",
    "import json\n",
    "import pickle"
   ]
  },
  {
   "cell_type": "code",
   "execution_count": 2,
   "id": "653253f5",
   "metadata": {},
   "outputs": [],
   "source": [
    "import spotipy\n",
    "from spotipy.oauth2 import SpotifyClientCredentials\n",
    "cid = 'e01282b2f4404d24934cf5518c6e7caa'\n",
    "secret = 'c8d2e9e0bb4242f4af24232bcdb78fbd'\n",
    "client_credentials_manager = SpotifyClientCredentials(client_id=cid, client_secret=secret)\n",
    "sp = spotipy.Spotify(client_credentials_manager\n",
    "=client_credentials_manager)"
   ]
  },
  {
   "cell_type": "code",
   "execution_count": null,
   "id": "11ddc2a3",
   "metadata": {},
   "outputs": [],
   "source": []
  },
  {
   "cell_type": "code",
   "execution_count": 3,
   "id": "b6533f2c",
   "metadata": {},
   "outputs": [],
   "source": [
    "songs = pickle.load(open('songs.pkl', 'rb'))\n",
    "similarity = pickle.load(open('similarity.pkl', 'rb'))"
   ]
  },
  {
   "cell_type": "code",
   "execution_count": null,
   "id": "b141eedc",
   "metadata": {},
   "outputs": [],
   "source": []
  },
  {
   "cell_type": "code",
   "execution_count": null,
   "id": "f8fa5129",
   "metadata": {
    "scrolled": true
   },
   "outputs": [],
   "source": []
  },
  {
   "cell_type": "code",
   "execution_count": 4,
   "id": "bec42023",
   "metadata": {},
   "outputs": [
    {
     "data": {
      "text/plain": [
       "12348"
      ]
     },
     "execution_count": 4,
     "metadata": {},
     "output_type": "execute_result"
    }
   ],
   "source": [
    "songs[songs.song == 'Hero'].index[0]"
   ]
  },
  {
   "cell_type": "code",
   "execution_count": 5,
   "id": "bd85922c",
   "metadata": {},
   "outputs": [
    {
     "data": {
      "text/plain": [
       "'Ozzy Osbourne'"
      ]
     },
     "execution_count": 5,
     "metadata": {},
     "output_type": "execute_result"
    }
   ],
   "source": [
    "songs.iloc[songs[songs.song == 'Hero'].index[0]]['artist']"
   ]
  },
  {
   "cell_type": "code",
   "execution_count": null,
   "id": "6fd95bba",
   "metadata": {},
   "outputs": [],
   "source": []
  },
  {
   "cell_type": "code",
   "execution_count": 6,
   "id": "6ec93c77",
   "metadata": {},
   "outputs": [],
   "source": [
    "# artistname = 'Enrique'\n",
    "# songname = 'Hero'\n",
    "# query = f\" artist:{artistname} track:{songname}\""
   ]
  },
  {
   "cell_type": "code",
   "execution_count": 7,
   "id": "8a9da7fa",
   "metadata": {},
   "outputs": [],
   "source": [
    "def get_poster_cover(artist_name, song_name):\n",
    "    query = f\"artist:{artist_name} track:{song_name}\"\n",
    "    results = sp.search(q = query, type = 'track', limit =1)\n",
    "    #name = results['tracks']['items'][0]['name']\n",
    "    try:\n",
    "        image_url = results['tracks']['items'][0]['album']['images'][0]['url']\n",
    "    except:\n",
    "        image_url = \"https://i.postimg.cc/0QNXYz4V/social.png\"\n",
    "    #print(name)\n",
    "    return image_url"
   ]
  },
  {
   "cell_type": "code",
   "execution_count": 8,
   "id": "3f7ada02",
   "metadata": {},
   "outputs": [],
   "source": [
    "# get_poster_cover('Enrique', 'Hero')"
   ]
  },
  {
   "cell_type": "code",
   "execution_count": 20,
   "id": "9535d5bb",
   "metadata": {},
   "outputs": [],
   "source": [
    "def recommend(song):\n",
    "    song_index = songs[songs.song == song].index[0]\n",
    "    song_list = sorted(enumerate(similarity[song_index]), reverse = True, key = lambda x: x[1])[1:6]\n",
    "    recommended_songs_list = []\n",
    "    song_poster_list = []\n",
    "    for i in song_list:\n",
    "        artist_name = songs.iloc[i[0]]['artist']\n",
    "#         print(artist_name)\n",
    "        song_name = songs.iloc[i[0]]['song']\n",
    "        recommended_songs_list.append(song_name)\n",
    "        image_poster = get_poster_cover(artist_name, song_name)\n",
    "#         print(image_poster)\n",
    "        song_poster_list.append(image_poster)\n",
    "        try:\n",
    "            hyperlink = opensong(artist_name, song_name)\n",
    "            print(hyperlink)\n",
    "        except:\n",
    "            print('not found')\n",
    "\n",
    "    return recommended_songs_list, song_poster_list"
   ]
  },
  {
   "cell_type": "code",
   "execution_count": 19,
   "id": "1566cf37",
   "metadata": {},
   "outputs": [
    {
     "name": "stdout",
     "output_type": "stream",
     "text": [
      "https://open.spotify.com/track/0HZVk7vIBctBeHYvVEFeAL\n",
      "None\n",
      "https://open.spotify.com/track/7LfvTByR0sAwBKghBTVyaE\n",
      "None\n"
     ]
    },
    {
     "ename": "IndexError",
     "evalue": "list index out of range",
     "output_type": "error",
     "traceback": [
      "\u001b[1;31m---------------------------------------------------------------------------\u001b[0m",
      "\u001b[1;31mIndexError\u001b[0m                                Traceback (most recent call last)",
      "Cell \u001b[1;32mIn[19], line 1\u001b[0m\n\u001b[1;32m----> 1\u001b[0m \u001b[38;5;28mprint\u001b[39m(\u001b[43mrecommend\u001b[49m\u001b[43m(\u001b[49m\u001b[38;5;124;43m'\u001b[39;49m\u001b[38;5;124;43mChiquitita\u001b[39;49m\u001b[38;5;124;43m'\u001b[39;49m\u001b[43m)\u001b[49m)\n",
      "Cell \u001b[1;32mIn[18], line 14\u001b[0m, in \u001b[0;36mrecommend\u001b[1;34m(song)\u001b[0m\n\u001b[0;32m     12\u001b[0m \u001b[38;5;66;03m#         print(image_poster)\u001b[39;00m\n\u001b[0;32m     13\u001b[0m         song_poster_list\u001b[38;5;241m.\u001b[39mappend(image_poster)\n\u001b[1;32m---> 14\u001b[0m         hyperlink \u001b[38;5;241m=\u001b[39m \u001b[43mopensong\u001b[49m\u001b[43m(\u001b[49m\u001b[43martist_name\u001b[49m\u001b[43m,\u001b[49m\u001b[43m \u001b[49m\u001b[43msong_name\u001b[49m\u001b[43m)\u001b[49m\n\u001b[0;32m     15\u001b[0m         \u001b[38;5;28mprint\u001b[39m(hyperlink)\n\u001b[0;32m     17\u001b[0m     \u001b[38;5;28;01mreturn\u001b[39;00m recommended_songs_list, song_poster_list\n",
      "Cell \u001b[1;32mIn[17], line 4\u001b[0m, in \u001b[0;36mopensong\u001b[1;34m(artist_name, song_name)\u001b[0m\n\u001b[0;32m      2\u001b[0m query \u001b[38;5;241m=\u001b[39m \u001b[38;5;124mf\u001b[39m\u001b[38;5;124m\"\u001b[39m\u001b[38;5;124martist:\u001b[39m\u001b[38;5;132;01m{\u001b[39;00martist_name\u001b[38;5;132;01m}\u001b[39;00m\u001b[38;5;124m track:\u001b[39m\u001b[38;5;132;01m{\u001b[39;00msong_name\u001b[38;5;132;01m}\u001b[39;00m\u001b[38;5;124m\"\u001b[39m\n\u001b[0;32m      3\u001b[0m results \u001b[38;5;241m=\u001b[39m sp\u001b[38;5;241m.\u001b[39msearch(q \u001b[38;5;241m=\u001b[39m query, \u001b[38;5;28mtype\u001b[39m \u001b[38;5;241m=\u001b[39m \u001b[38;5;124m'\u001b[39m\u001b[38;5;124mtrack\u001b[39m\u001b[38;5;124m'\u001b[39m, limit \u001b[38;5;241m=\u001b[39m\u001b[38;5;241m1\u001b[39m)\n\u001b[1;32m----> 4\u001b[0m \u001b[38;5;28mprint\u001b[39m(\u001b[43mresults\u001b[49m\u001b[43m[\u001b[49m\u001b[38;5;124;43m'\u001b[39;49m\u001b[38;5;124;43mtracks\u001b[39;49m\u001b[38;5;124;43m'\u001b[39;49m\u001b[43m]\u001b[49m\u001b[43m[\u001b[49m\u001b[38;5;124;43m'\u001b[39;49m\u001b[38;5;124;43mitems\u001b[39;49m\u001b[38;5;124;43m'\u001b[39;49m\u001b[43m]\u001b[49m\u001b[43m[\u001b[49m\u001b[38;5;241;43m0\u001b[39;49m\u001b[43m]\u001b[49m[\u001b[38;5;124m'\u001b[39m\u001b[38;5;124mexternal_urls\u001b[39m\u001b[38;5;124m'\u001b[39m][\u001b[38;5;124m'\u001b[39m\u001b[38;5;124mspotify\u001b[39m\u001b[38;5;124m'\u001b[39m])\n",
      "\u001b[1;31mIndexError\u001b[0m: list index out of range"
     ]
    }
   ],
   "source": [
    "print(recommend('Chiquitita'))"
   ]
  },
  {
   "cell_type": "code",
   "execution_count": 11,
   "id": "502e2add",
   "metadata": {},
   "outputs": [],
   "source": [
    "# print(songs[songs.song == \"A Song I'd Like To Sing\"]['artist'])\n",
    "# print(songs[songs.song == \"From A Distance\"]['artist'])\n",
    "# print(songs[songs.song == \"I'm New\"]['artist'])\n",
    "# print(songs[songs.song == \"Singing Over Me\"]['artist'])\n",
    "# print(songs[songs.song == \"Song For Love\"]['artist'])"
   ]
  },
  {
   "cell_type": "code",
   "execution_count": 12,
   "id": "656f96a7",
   "metadata": {},
   "outputs": [],
   "source": [
    "# def get_poster_cover(artist_name, song_name):\n",
    "#     query = f\"artist:{artist_name} track:{song_name}\"\n",
    "#     results = sp.search(q = query, type = 'track', limit =1)\n",
    "#     return results\n",
    "#     #name = results['tracks']['items'][0]['name']\n",
    "#     try:\n",
    "#         image_url = results['tracks']['items'][0]['album']['images'][0]['url']\n",
    "#     except:\n",
    "#         image_url = \"https://i.postimg.cc/0QNXYz4V/social.png\"\n",
    "#     print(name)\n",
    "#     return image_url"
   ]
  },
  {
   "cell_type": "code",
   "execution_count": null,
   "id": "d78bff13",
   "metadata": {},
   "outputs": [],
   "source": []
  },
  {
   "cell_type": "code",
   "execution_count": 14,
   "id": "165cbf9f",
   "metadata": {},
   "outputs": [],
   "source": [
    "# 'https://open.spotify.com/album/6whfi6LNFoQnkvrQAWwZix'}"
   ]
  },
  {
   "cell_type": "code",
   "execution_count": null,
   "id": "ad8fe56b",
   "metadata": {},
   "outputs": [],
   "source": [
    "# print(results['tracks']['items'][0]['external_urls']['spotify'])"
   ]
  },
  {
   "cell_type": "code",
   "execution_count": 17,
   "id": "ac404b64",
   "metadata": {},
   "outputs": [],
   "source": [
    "def opensong(artist_name, song_name):\n",
    "    query = f\"artist:{artist_name} track:{song_name}\"\n",
    "    results = sp.search(q = query, type = 'track', limit =1)\n",
    "    print(results['tracks']['items'][0]['external_urls']['spotify'])"
   ]
  },
  {
   "cell_type": "code",
   "execution_count": null,
   "id": "1939a332",
   "metadata": {},
   "outputs": [],
   "source": [
    "# opensong('Enrique', 'Hero')"
   ]
  },
  {
   "cell_type": "code",
   "execution_count": null,
   "id": "56ff5cb0",
   "metadata": {},
   "outputs": [],
   "source": [
    "\n",
    "# # \n",
    "# # spotify = spotipy.Spotify(client_credentials_manager=SpotifyClientCredentials())\n",
    "# artist_id = sp.search(q='artist:Taylor', type='artist', limit=1)['artists']['items'][0]['id']\n",
    "# lz_uri = f\"spotify:artist:{artist_id}\"\n",
    "# results = sp.artist_top_tracks(lz_uri)\n",
    "\n"
   ]
  },
  {
   "cell_type": "code",
   "execution_count": null,
   "id": "82cc051c",
   "metadata": {},
   "outputs": [],
   "source": [
    "# for track in results['tracks'][:10]:\n",
    "#     print('track : ' + track['name'])\n",
    "#     try:\n",
    "#         print('audio : ' + track['preview_url'])\n",
    "#     except:\n",
    "#         pass\n",
    "#     print('cover art: ' + track['album']['images'][0]['url'])\n",
    "#     print()"
   ]
  },
  {
   "cell_type": "code",
   "execution_count": null,
   "id": "10a95e8c",
   "metadata": {},
   "outputs": [],
   "source": [
    "# print(results['tracks'][0])"
   ]
  },
  {
   "cell_type": "code",
   "execution_count": null,
   "id": "28542d72",
   "metadata": {},
   "outputs": [],
   "source": [
    "# print(\"https://www.freepnglogos.com/images/spotify-logo-png-7053.html\")"
   ]
  },
  {
   "cell_type": "code",
   "execution_count": null,
   "id": "2d4e5db8",
   "metadata": {},
   "outputs": [],
   "source": []
  },
  {
   "cell_type": "code",
   "execution_count": null,
   "id": "ead69cc5",
   "metadata": {},
   "outputs": [],
   "source": [
    "# artist_name = []\n",
    "# track_name = []\n",
    "# popularity = []\n",
    "# track_id = []\n",
    "# for i in range(0,10000,50):\n",
    "#     track_results = sp.search(q='year:2019', type='track', limit=50,offset=i)\n",
    "#     for i, t in enumerate(track_results['tracks']['items']):\n",
    "#         artist_name.append(t['artists'][0]['name'])\n",
    "#         track_name.append(t['name'])\n",
    "#         track_id.append(t['id'])\n",
    "#         popularity.append(t['popularity'])"
   ]
  },
  {
   "cell_type": "code",
   "execution_count": null,
   "id": "b7fafd4f",
   "metadata": {},
   "outputs": [],
   "source": [
    " \n",
    "# print(\"Welcome to the project, \" ) \n",
    "# print(\"0 - Exit the console\") \n",
    "# print(\"1 - Search for a Song\") \n",
    "# user_input = int(input(\"Enter Your Choice: \")) \n",
    "# if user_input == 1: \n",
    "#     song_name = input(\"Enter the song name: \")\n",
    "#     artist_name = input(\"Enter the artist name: \")\n",
    "#     search_query =  f\"track:{song_name} artist:{artist_name} \"\n",
    "    \n",
    "#     results = sp.search(q = search_query, type = \"track\") \n",
    "#     print(results)\n",
    "#     songs_dict = results['tracks'] \n",
    "#     song_items = songs_dict['items'] \n",
    "#     song = song_items[0]['external_urls']['spotify'] \n",
    "# #   webbrowser.open(song) \n",
    "# #   print('Song has opened in your browser.') \n",
    "# elif user_input == 0: \n",
    "#     print(\"Good Bye, Have a great day!\") \n",
    "#     #break\n",
    "# else: \n",
    "#     print(\"Please enter valid user-input.\") "
   ]
  },
  {
   "cell_type": "code",
   "execution_count": null,
   "id": "5c7977ec",
   "metadata": {},
   "outputs": [],
   "source": []
  },
  {
   "cell_type": "code",
   "execution_count": null,
   "id": "dc14a876",
   "metadata": {},
   "outputs": [],
   "source": [
    "# print(results)"
   ]
  },
  {
   "cell_type": "code",
   "execution_count": null,
   "id": "fc4e4928",
   "metadata": {},
   "outputs": [],
   "source": []
  },
  {
   "cell_type": "code",
   "execution_count": null,
   "id": "a8e795f0",
   "metadata": {},
   "outputs": [],
   "source": [
    " \n",
    "# print(\"Welcome to the project, \" ) \n",
    "# print(\"0 - Exit the console\") \n",
    "# print(\"1 - Search for a Song\") \n",
    "# user_input = int(input(\"Enter Your Choice: \")) \n",
    "# if user_input == 1: \n",
    "#     song_name = input(\"Enter the song name: \")\n",
    "#     artist_name = input(\"Enter the artist name: \")\n",
    "# #     search_query =  f\"track:{song_name} artist:{artist_name} \"\n",
    "    \n",
    "#     results2 = sp.search(q = song_name, type = \"track\") \n",
    "#     artist = sp.search(q = song_name, type = \"artists\") \n",
    "#     print(json.dumps(artist))\n",
    "#     #print(json.dumps(results2, indent=4))\n",
    "# #     songs_dict = results['tracks'] \n",
    "# #     song_items = songs_dict['items'] \n",
    "# #     song = song_items[0]['external_urls']['spotify'] \n",
    "# #   webbrowser.open(song) \n",
    "# #   print('Song has opened in your browser.') \n",
    "# elif user_input == 0: \n",
    "#     print(\"Good Bye, Have a great day!\") \n",
    "#     #break\n",
    "# else: \n",
    "#     print(\"Please enter valid user-input.\") "
   ]
  },
  {
   "cell_type": "code",
   "execution_count": null,
   "id": "b9dd51e8",
   "metadata": {},
   "outputs": [],
   "source": [
    "# print(results2['tracks']['items'][0]['album']['images'][0]['url'])"
   ]
  },
  {
   "cell_type": "code",
   "execution_count": null,
   "id": "3c025355",
   "metadata": {},
   "outputs": [],
   "source": []
  }
 ],
 "metadata": {
  "kernelspec": {
   "display_name": "Python 3 (ipykernel)",
   "language": "python",
   "name": "python3"
  },
  "language_info": {
   "codemirror_mode": {
    "name": "ipython",
    "version": 3
   },
   "file_extension": ".py",
   "mimetype": "text/x-python",
   "name": "python",
   "nbconvert_exporter": "python",
   "pygments_lexer": "ipython3",
   "version": "3.9.18"
  }
 },
 "nbformat": 4,
 "nbformat_minor": 5
}

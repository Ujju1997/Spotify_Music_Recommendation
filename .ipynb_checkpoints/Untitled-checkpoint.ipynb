{
 "cells": [
  {
   "cell_type": "code",
   "execution_count": 109,
   "id": "dfad77f4",
   "metadata": {},
   "outputs": [],
   "source": [
    "import pandas as pd\n",
    "import numpy as np\n",
    "import warnings\n",
    "warnings.filterwarnings('ignore')"
   ]
  },
  {
   "cell_type": "code",
   "execution_count": 110,
   "id": "d38dfe0d",
   "metadata": {},
   "outputs": [
    {
     "data": {
      "text/html": [
       "<div>\n",
       "<style scoped>\n",
       "    .dataframe tbody tr th:only-of-type {\n",
       "        vertical-align: middle;\n",
       "    }\n",
       "\n",
       "    .dataframe tbody tr th {\n",
       "        vertical-align: top;\n",
       "    }\n",
       "\n",
       "    .dataframe thead th {\n",
       "        text-align: right;\n",
       "    }\n",
       "</style>\n",
       "<table border=\"1\" class=\"dataframe\">\n",
       "  <thead>\n",
       "    <tr style=\"text-align: right;\">\n",
       "      <th></th>\n",
       "      <th>artist</th>\n",
       "      <th>song</th>\n",
       "      <th>link</th>\n",
       "      <th>text</th>\n",
       "    </tr>\n",
       "  </thead>\n",
       "  <tbody>\n",
       "    <tr>\n",
       "      <th>0</th>\n",
       "      <td>ABBA</td>\n",
       "      <td>Ahe's My Kind Of Girl</td>\n",
       "      <td>/a/abba/ahes+my+kind+of+girl_20598417.html</td>\n",
       "      <td>Look at her face, it's a wonderful face  \\r\\nA...</td>\n",
       "    </tr>\n",
       "    <tr>\n",
       "      <th>1</th>\n",
       "      <td>ABBA</td>\n",
       "      <td>Andante, Andante</td>\n",
       "      <td>/a/abba/andante+andante_20002708.html</td>\n",
       "      <td>Take it easy with me, please  \\r\\nTouch me gen...</td>\n",
       "    </tr>\n",
       "    <tr>\n",
       "      <th>2</th>\n",
       "      <td>ABBA</td>\n",
       "      <td>As Good As New</td>\n",
       "      <td>/a/abba/as+good+as+new_20003033.html</td>\n",
       "      <td>I'll never know why I had to go  \\r\\nWhy I had...</td>\n",
       "    </tr>\n",
       "    <tr>\n",
       "      <th>3</th>\n",
       "      <td>ABBA</td>\n",
       "      <td>Bang</td>\n",
       "      <td>/a/abba/bang_20598415.html</td>\n",
       "      <td>Making somebody happy is a question of give an...</td>\n",
       "    </tr>\n",
       "    <tr>\n",
       "      <th>4</th>\n",
       "      <td>ABBA</td>\n",
       "      <td>Bang-A-Boomerang</td>\n",
       "      <td>/a/abba/bang+a+boomerang_20002668.html</td>\n",
       "      <td>Making somebody happy is a question of give an...</td>\n",
       "    </tr>\n",
       "  </tbody>\n",
       "</table>\n",
       "</div>"
      ],
      "text/plain": [
       "  artist                   song                                        link  \\\n",
       "0   ABBA  Ahe's My Kind Of Girl  /a/abba/ahes+my+kind+of+girl_20598417.html   \n",
       "1   ABBA       Andante, Andante       /a/abba/andante+andante_20002708.html   \n",
       "2   ABBA         As Good As New        /a/abba/as+good+as+new_20003033.html   \n",
       "3   ABBA                   Bang                  /a/abba/bang_20598415.html   \n",
       "4   ABBA       Bang-A-Boomerang      /a/abba/bang+a+boomerang_20002668.html   \n",
       "\n",
       "                                                text  \n",
       "0  Look at her face, it's a wonderful face  \\r\\nA...  \n",
       "1  Take it easy with me, please  \\r\\nTouch me gen...  \n",
       "2  I'll never know why I had to go  \\r\\nWhy I had...  \n",
       "3  Making somebody happy is a question of give an...  \n",
       "4  Making somebody happy is a question of give an...  "
      ]
     },
     "execution_count": 110,
     "metadata": {},
     "output_type": "execute_result"
    }
   ],
   "source": [
    "songs = pd.read_csv('spotify.csv')\n",
    "songs.head()"
   ]
  },
  {
   "cell_type": "code",
   "execution_count": 111,
   "id": "6036dbe4",
   "metadata": {},
   "outputs": [],
   "source": [
    "## drop link column\n",
    "songs.drop('link', axis = 1, inplace= True)"
   ]
  },
  {
   "cell_type": "code",
   "execution_count": 112,
   "id": "96fe6d97",
   "metadata": {},
   "outputs": [
    {
     "name": "stdout",
     "output_type": "stream",
     "text": [
      "<class 'pandas.core.frame.DataFrame'>\n",
      "RangeIndex: 57650 entries, 0 to 57649\n",
      "Data columns (total 3 columns):\n",
      " #   Column  Non-Null Count  Dtype \n",
      "---  ------  --------------  ----- \n",
      " 0   artist  57650 non-null  object\n",
      " 1   song    57650 non-null  object\n",
      " 2   text    57650 non-null  object\n",
      "dtypes: object(3)\n",
      "memory usage: 1.3+ MB\n"
     ]
    }
   ],
   "source": [
    "songs.info()"
   ]
  },
  {
   "cell_type": "markdown",
   "id": "06229f2c",
   "metadata": {},
   "source": [
    "#### Replace the \\n, \\r and anything with is not a valid word"
   ]
  },
  {
   "cell_type": "code",
   "execution_count": 113,
   "id": "cbf3d45e",
   "metadata": {},
   "outputs": [
    {
     "data": {
      "text/plain": [
       "\"Take it easy with me, please  \\r\\nTouch me gently like a summer evening breeze  \\r\\nTake your time, make it slow  \\r\\nAndante, Andante  \\r\\nJust let the feeling grow  \\r\\n  \\r\\nMake your fingers soft and light  \\r\\nLet your body be the velvet of the night  \\r\\nTouch my soul, you know how  \\r\\nAndante, Andante  \\r\\nGo slowly with me now  \\r\\n  \\r\\nI'm your music  \\r\\n(I am your music and I am your song)  \\r\\nI'm your song  \\r\\n(I am your music and I am your song)  \\r\\nPlay me time and time again and make me strong  \\r\\n(Play me again 'cause you're making me strong)  \\r\\nMake me sing, make me sound  \\r\\n(You make me sing and you make me)  \\r\\nAndante, Andante  \\r\\nTread lightly on my ground  \\r\\nAndante, Andante  \\r\\nOh please don't let me down  \\r\\n  \\r\\nThere's a shimmer in your eyes  \\r\\nLike the feeling of a thousand butterflies  \\r\\nPlease don't talk, go on, play  \\r\\nAndante, Andante  \\r\\nAnd let me float away  \\r\\n  \\r\\nI'm your music  \\r\\n(I am your music and I am your song)  \\r\\nI'm your song  \\r\\n(I am your music and I am your song)  \\r\\nPlay me time and time again and make me strong  \\r\\n(Play me again 'cause you're making me strong)  \\r\\nMake me sing, make me sound  \\r\\n(You make me sing and you make me)  \\r\\nAndante, Andante  \\r\\nTread lightly on my ground  \\r\\nAndante, Andante  \\r\\nOh please don't let me down  \\r\\n  \\r\\nMake me sing, make me sound  \\r\\n(You make me sing and you make me)  \\r\\nAndante, Andante  \\r\\nTread lightly on my ground  \\r\\nAndante, Andante  \\r\\nOh please don't let me down  \\r\\nAndante, Andante  \\r\\nOh please don't let me down\\r\\n\\r\\n\""
      ]
     },
     "execution_count": 113,
     "metadata": {},
     "output_type": "execute_result"
    }
   ],
   "source": [
    "songs.text[1]"
   ]
  },
  {
   "cell_type": "code",
   "execution_count": 145,
   "id": "9065f4c9",
   "metadata": {},
   "outputs": [],
   "source": [
    "songs = songs.sample(50000)"
   ]
  },
  {
   "cell_type": "code",
   "execution_count": 115,
   "id": "ac35d5ac",
   "metadata": {},
   "outputs": [],
   "source": [
    "songs['text'] = songs['text'].str.replace('~[a-zA-Z ]', '', regex = True).str.replace('[\\n | \\r]', \" \", regex = True)\n",
    "songs['text'] = songs['text'].str.lower()"
   ]
  },
  {
   "cell_type": "code",
   "execution_count": 116,
   "id": "7ce81ff1",
   "metadata": {},
   "outputs": [
    {
     "data": {
      "text/plain": [
       "\"take it easy with me, please    touch me gently like a summer evening breeze    take your time, make it slow    andante, andante    just let the feeling grow        make your fingers soft and light    let your body be the velvet of the night    touch my soul, you know how    andante, andante    go slowly with me now        i'm your music    (i am your music and i am your song)    i'm your song    (i am your music and i am your song)    play me time and time again and make me strong    (play me again 'cause you're making me strong)    make me sing, make me sound    (you make me sing and you make me)    andante, andante    tread lightly on my ground    andante, andante    oh please don't let me down        there's a shimmer in your eyes    like the feeling of a thousand butterflies    please don't talk, go on, play    andante, andante    and let me float away        i'm your music    (i am your music and i am your song)    i'm your song    (i am your music and i am your song)    play me time and time again and make me strong    (play me again 'cause you're making me strong)    make me sing, make me sound    (you make me sing and you make me)    andante, andante    tread lightly on my ground    andante, andante    oh please don't let me down        make me sing, make me sound    (you make me sing and you make me)    andante, andante    tread lightly on my ground    andante, andante    oh please don't let me down    andante, andante    oh please don't let me down    \""
      ]
     },
     "execution_count": 116,
     "metadata": {},
     "output_type": "execute_result"
    }
   ],
   "source": [
    "songs.text[1]"
   ]
  },
  {
   "cell_type": "code",
   "execution_count": null,
   "id": "7ef7a046",
   "metadata": {},
   "outputs": [],
   "source": []
  },
  {
   "cell_type": "code",
   "execution_count": 117,
   "id": "bc0e562d",
   "metadata": {},
   "outputs": [],
   "source": [
    "from nltk.tokenize import word_tokenize\n",
    "from nltk.corpus import stopwords"
   ]
  },
  {
   "cell_type": "code",
   "execution_count": 118,
   "id": "db05e31f",
   "metadata": {},
   "outputs": [],
   "source": [
    "stopwords_list = stopwords.words('english')\n",
    "# print(stopwords_list)"
   ]
  },
  {
   "cell_type": "code",
   "execution_count": null,
   "id": "3fcd1d45",
   "metadata": {},
   "outputs": [],
   "source": []
  },
  {
   "cell_type": "code",
   "execution_count": 119,
   "id": "fb179257",
   "metadata": {},
   "outputs": [],
   "source": [
    "# Function to tokenize and remove stopwords from text\n",
    "def tokenizer(txt):\n",
    "    words = word_tokenize(txt)\n",
    "    #print(len(words))\n",
    "    #print(words)\n",
    "    return [word for word in words if word.isalpha() and word not in stopwords_list]\n",
    "    \n",
    "    "
   ]
  },
  {
   "cell_type": "code",
   "execution_count": 120,
   "id": "22b7e04e",
   "metadata": {},
   "outputs": [],
   "source": [
    "# Function to make artist column a list to add with text column for creating tags\n",
    "def check(text):\n",
    "    text = text.replace(' ', '')\n",
    "    text = text.lower()\n",
    "    return text.split()\n",
    "    "
   ]
  },
  {
   "cell_type": "code",
   "execution_count": 121,
   "id": "956a77fb",
   "metadata": {},
   "outputs": [],
   "source": [
    "songs['text'] = songs['text'].apply(tokenizer)"
   ]
  },
  {
   "cell_type": "code",
   "execution_count": 122,
   "id": "3a575ad4",
   "metadata": {},
   "outputs": [],
   "source": [
    "songs['artist_clean'] = songs['artist'].apply(check)"
   ]
  },
  {
   "cell_type": "code",
   "execution_count": 123,
   "id": "e9bda687",
   "metadata": {},
   "outputs": [],
   "source": [
    "# songs['artist_clean']"
   ]
  },
  {
   "cell_type": "code",
   "execution_count": 124,
   "id": "fb387756",
   "metadata": {},
   "outputs": [
    {
     "data": {
      "text/html": [
       "<div>\n",
       "<style scoped>\n",
       "    .dataframe tbody tr th:only-of-type {\n",
       "        vertical-align: middle;\n",
       "    }\n",
       "\n",
       "    .dataframe tbody tr th {\n",
       "        vertical-align: top;\n",
       "    }\n",
       "\n",
       "    .dataframe thead th {\n",
       "        text-align: right;\n",
       "    }\n",
       "</style>\n",
       "<table border=\"1\" class=\"dataframe\">\n",
       "  <thead>\n",
       "    <tr style=\"text-align: right;\">\n",
       "      <th></th>\n",
       "      <th>artist</th>\n",
       "      <th>song</th>\n",
       "      <th>text</th>\n",
       "      <th>artist_clean</th>\n",
       "    </tr>\n",
       "  </thead>\n",
       "  <tbody>\n",
       "    <tr>\n",
       "      <th>50033</th>\n",
       "      <td>Ramones</td>\n",
       "      <td>Lisa Got A Haircut</td>\n",
       "      <td>[verse, lisa, got, haircut, another, one, toda...</td>\n",
       "      <td>[ramones]</td>\n",
       "    </tr>\n",
       "    <tr>\n",
       "      <th>9803</th>\n",
       "      <td>Josh Groban</td>\n",
       "      <td>Never Let Go</td>\n",
       "      <td>[ca, understand, search, answer, met, darker, ...</td>\n",
       "      <td>[joshgroban]</td>\n",
       "    </tr>\n",
       "    <tr>\n",
       "      <th>56420</th>\n",
       "      <td>Widespread Panic</td>\n",
       "      <td>Better Off</td>\n",
       "      <td>[funnin, round, grandpa, farm, really, groovin...</td>\n",
       "      <td>[widespreadpanic]</td>\n",
       "    </tr>\n",
       "    <tr>\n",
       "      <th>26209</th>\n",
       "      <td>Boney M.</td>\n",
       "      <td>Exodus</td>\n",
       "      <td>[get, board, silver, sun, noah, arc, year, hea...</td>\n",
       "      <td>[boneym.]</td>\n",
       "    </tr>\n",
       "    <tr>\n",
       "      <th>56459</th>\n",
       "      <td>Widespread Panic</td>\n",
       "      <td>One Arm Steve</td>\n",
       "      <td>[well, steve, yeah, threw, door, said, come, b...</td>\n",
       "      <td>[widespreadpanic]</td>\n",
       "    </tr>\n",
       "    <tr>\n",
       "      <th>...</th>\n",
       "      <td>...</td>\n",
       "      <td>...</td>\n",
       "      <td>...</td>\n",
       "      <td>...</td>\n",
       "    </tr>\n",
       "    <tr>\n",
       "      <th>18528</th>\n",
       "      <td>Sia</td>\n",
       "      <td>California Dreamin'</td>\n",
       "      <td>[chorus, leaves, brown, sky, gray, walk, winte...</td>\n",
       "      <td>[sia]</td>\n",
       "    </tr>\n",
       "    <tr>\n",
       "      <th>34563</th>\n",
       "      <td>Grateful Dead</td>\n",
       "      <td>Silver Threads And Golden Needles</td>\n",
       "      <td>[want, lonely, mansion, tear, every, room, wan...</td>\n",
       "      <td>[gratefuldead]</td>\n",
       "    </tr>\n",
       "    <tr>\n",
       "      <th>30775</th>\n",
       "      <td>Ed Sheeran</td>\n",
       "      <td>These Dreams</td>\n",
       "      <td>[keep, hopes, dreams, inside, amongst, things,...</td>\n",
       "      <td>[edsheeran]</td>\n",
       "    </tr>\n",
       "    <tr>\n",
       "      <th>44520</th>\n",
       "      <td>Moody Blues</td>\n",
       "      <td>What Child Is This</td>\n",
       "      <td>[child, laid, rest, mary, lap, sleeping, angel...</td>\n",
       "      <td>[moodyblues]</td>\n",
       "    </tr>\n",
       "    <tr>\n",
       "      <th>28529</th>\n",
       "      <td>Cyndi Lauper</td>\n",
       "      <td>High And Mighty</td>\n",
       "      <td>[listen, sound, ya, living, high, mighty, livi...</td>\n",
       "      <td>[cyndilauper]</td>\n",
       "    </tr>\n",
       "  </tbody>\n",
       "</table>\n",
       "<p>50000 rows × 4 columns</p>\n",
       "</div>"
      ],
      "text/plain": [
       "                 artist                               song  \\\n",
       "50033           Ramones                 Lisa Got A Haircut   \n",
       "9803        Josh Groban                       Never Let Go   \n",
       "56420  Widespread Panic                         Better Off   \n",
       "26209          Boney M.                             Exodus   \n",
       "56459  Widespread Panic                      One Arm Steve   \n",
       "...                 ...                                ...   \n",
       "18528               Sia                California Dreamin'   \n",
       "34563     Grateful Dead  Silver Threads And Golden Needles   \n",
       "30775        Ed Sheeran                       These Dreams   \n",
       "44520       Moody Blues                 What Child Is This   \n",
       "28529      Cyndi Lauper                    High And Mighty   \n",
       "\n",
       "                                                    text       artist_clean  \n",
       "50033  [verse, lisa, got, haircut, another, one, toda...          [ramones]  \n",
       "9803   [ca, understand, search, answer, met, darker, ...       [joshgroban]  \n",
       "56420  [funnin, round, grandpa, farm, really, groovin...  [widespreadpanic]  \n",
       "26209  [get, board, silver, sun, noah, arc, year, hea...          [boneym.]  \n",
       "56459  [well, steve, yeah, threw, door, said, come, b...  [widespreadpanic]  \n",
       "...                                                  ...                ...  \n",
       "18528  [chorus, leaves, brown, sky, gray, walk, winte...              [sia]  \n",
       "34563  [want, lonely, mansion, tear, every, room, wan...     [gratefuldead]  \n",
       "30775  [keep, hopes, dreams, inside, amongst, things,...        [edsheeran]  \n",
       "44520  [child, laid, rest, mary, lap, sleeping, angel...       [moodyblues]  \n",
       "28529  [listen, sound, ya, living, high, mighty, livi...      [cyndilauper]  \n",
       "\n",
       "[50000 rows x 4 columns]"
      ]
     },
     "execution_count": 124,
     "metadata": {},
     "output_type": "execute_result"
    }
   ],
   "source": [
    "songs"
   ]
  },
  {
   "cell_type": "code",
   "execution_count": 125,
   "id": "fcad4019",
   "metadata": {},
   "outputs": [
    {
     "data": {
      "text/plain": [
       "50033    [verse, lisa, got, haircut, another, one, toda...\n",
       "9803     [ca, understand, search, answer, met, darker, ...\n",
       "56420    [funnin, round, grandpa, farm, really, groovin...\n",
       "26209    [get, board, silver, sun, noah, arc, year, hea...\n",
       "56459    [well, steve, yeah, threw, door, said, come, b...\n",
       "Name: tags, dtype: object"
      ]
     },
     "execution_count": 125,
     "metadata": {},
     "output_type": "execute_result"
    }
   ],
   "source": [
    "songs['tags'] = songs['text'] + songs['artist_clean']\n",
    "songs['tags'].head()"
   ]
  },
  {
   "cell_type": "code",
   "execution_count": 126,
   "id": "542723e4",
   "metadata": {},
   "outputs": [
    {
     "data": {
      "text/plain": [
       "Index(['artist', 'song', 'text', 'artist_clean', 'tags'], dtype='object')"
      ]
     },
     "execution_count": 126,
     "metadata": {},
     "output_type": "execute_result"
    }
   ],
   "source": [
    "songs.columns"
   ]
  },
  {
   "cell_type": "code",
   "execution_count": 127,
   "id": "349d5c97",
   "metadata": {},
   "outputs": [
    {
     "data": {
      "text/html": [
       "<div>\n",
       "<style scoped>\n",
       "    .dataframe tbody tr th:only-of-type {\n",
       "        vertical-align: middle;\n",
       "    }\n",
       "\n",
       "    .dataframe tbody tr th {\n",
       "        vertical-align: top;\n",
       "    }\n",
       "\n",
       "    .dataframe thead th {\n",
       "        text-align: right;\n",
       "    }\n",
       "</style>\n",
       "<table border=\"1\" class=\"dataframe\">\n",
       "  <thead>\n",
       "    <tr style=\"text-align: right;\">\n",
       "      <th></th>\n",
       "      <th>artist</th>\n",
       "      <th>song</th>\n",
       "      <th>tags</th>\n",
       "    </tr>\n",
       "  </thead>\n",
       "  <tbody>\n",
       "    <tr>\n",
       "      <th>50033</th>\n",
       "      <td>Ramones</td>\n",
       "      <td>Lisa Got A Haircut</td>\n",
       "      <td>[verse, lisa, got, haircut, another, one, toda...</td>\n",
       "    </tr>\n",
       "    <tr>\n",
       "      <th>9803</th>\n",
       "      <td>Josh Groban</td>\n",
       "      <td>Never Let Go</td>\n",
       "      <td>[ca, understand, search, answer, met, darker, ...</td>\n",
       "    </tr>\n",
       "    <tr>\n",
       "      <th>56420</th>\n",
       "      <td>Widespread Panic</td>\n",
       "      <td>Better Off</td>\n",
       "      <td>[funnin, round, grandpa, farm, really, groovin...</td>\n",
       "    </tr>\n",
       "    <tr>\n",
       "      <th>26209</th>\n",
       "      <td>Boney M.</td>\n",
       "      <td>Exodus</td>\n",
       "      <td>[get, board, silver, sun, noah, arc, year, hea...</td>\n",
       "    </tr>\n",
       "    <tr>\n",
       "      <th>56459</th>\n",
       "      <td>Widespread Panic</td>\n",
       "      <td>One Arm Steve</td>\n",
       "      <td>[well, steve, yeah, threw, door, said, come, b...</td>\n",
       "    </tr>\n",
       "    <tr>\n",
       "      <th>...</th>\n",
       "      <td>...</td>\n",
       "      <td>...</td>\n",
       "      <td>...</td>\n",
       "    </tr>\n",
       "    <tr>\n",
       "      <th>18528</th>\n",
       "      <td>Sia</td>\n",
       "      <td>California Dreamin'</td>\n",
       "      <td>[chorus, leaves, brown, sky, gray, walk, winte...</td>\n",
       "    </tr>\n",
       "    <tr>\n",
       "      <th>34563</th>\n",
       "      <td>Grateful Dead</td>\n",
       "      <td>Silver Threads And Golden Needles</td>\n",
       "      <td>[want, lonely, mansion, tear, every, room, wan...</td>\n",
       "    </tr>\n",
       "    <tr>\n",
       "      <th>30775</th>\n",
       "      <td>Ed Sheeran</td>\n",
       "      <td>These Dreams</td>\n",
       "      <td>[keep, hopes, dreams, inside, amongst, things,...</td>\n",
       "    </tr>\n",
       "    <tr>\n",
       "      <th>44520</th>\n",
       "      <td>Moody Blues</td>\n",
       "      <td>What Child Is This</td>\n",
       "      <td>[child, laid, rest, mary, lap, sleeping, angel...</td>\n",
       "    </tr>\n",
       "    <tr>\n",
       "      <th>28529</th>\n",
       "      <td>Cyndi Lauper</td>\n",
       "      <td>High And Mighty</td>\n",
       "      <td>[listen, sound, ya, living, high, mighty, livi...</td>\n",
       "    </tr>\n",
       "  </tbody>\n",
       "</table>\n",
       "<p>50000 rows × 3 columns</p>\n",
       "</div>"
      ],
      "text/plain": [
       "                 artist                               song  \\\n",
       "50033           Ramones                 Lisa Got A Haircut   \n",
       "9803        Josh Groban                       Never Let Go   \n",
       "56420  Widespread Panic                         Better Off   \n",
       "26209          Boney M.                             Exodus   \n",
       "56459  Widespread Panic                      One Arm Steve   \n",
       "...                 ...                                ...   \n",
       "18528               Sia                California Dreamin'   \n",
       "34563     Grateful Dead  Silver Threads And Golden Needles   \n",
       "30775        Ed Sheeran                       These Dreams   \n",
       "44520       Moody Blues                 What Child Is This   \n",
       "28529      Cyndi Lauper                    High And Mighty   \n",
       "\n",
       "                                                    tags  \n",
       "50033  [verse, lisa, got, haircut, another, one, toda...  \n",
       "9803   [ca, understand, search, answer, met, darker, ...  \n",
       "56420  [funnin, round, grandpa, farm, really, groovin...  \n",
       "26209  [get, board, silver, sun, noah, arc, year, hea...  \n",
       "56459  [well, steve, yeah, threw, door, said, come, b...  \n",
       "...                                                  ...  \n",
       "18528  [chorus, leaves, brown, sky, gray, walk, winte...  \n",
       "34563  [want, lonely, mansion, tear, every, room, wan...  \n",
       "30775  [keep, hopes, dreams, inside, amongst, things,...  \n",
       "44520  [child, laid, rest, mary, lap, sleeping, angel...  \n",
       "28529  [listen, sound, ya, living, high, mighty, livi...  \n",
       "\n",
       "[50000 rows x 3 columns]"
      ]
     },
     "execution_count": 127,
     "metadata": {},
     "output_type": "execute_result"
    }
   ],
   "source": [
    "newsongs = songs.drop(['text', 'artist_clean'], axis = 1)\n",
    "newsongs"
   ]
  },
  {
   "cell_type": "code",
   "execution_count": 128,
   "id": "9e94bda1",
   "metadata": {},
   "outputs": [
    {
     "data": {
      "text/plain": [
       "'look face wonderful face means something special look way smiles sees lucky one fellow kind girl makes feel fine could ever believe could mine kind girl without blue ever leaves could could go walk park holds squeezes hand go walking hours talking things plan kind girl makes feel fine could ever believe could mine kind girl without blue ever leaves could could abba'"
      ]
     },
     "execution_count": 128,
     "metadata": {},
     "output_type": "execute_result"
    }
   ],
   "source": [
    "\" \".join(newsongs.tags[0])"
   ]
  },
  {
   "cell_type": "code",
   "execution_count": 129,
   "id": "5ef477e9",
   "metadata": {},
   "outputs": [],
   "source": [
    "newsongs.tags = newsongs.tags.apply(lambda x : \" \".join(x))"
   ]
  },
  {
   "cell_type": "code",
   "execution_count": 130,
   "id": "bc1f61e1",
   "metadata": {},
   "outputs": [
    {
     "data": {
      "text/plain": [
       "50033    verse lisa got haircut another one today stuck...\n",
       "9803     ca understand search answer met darker day han...\n",
       "56420    funnin round grandpa farm really groovin baby ...\n",
       "26209    get board silver sun noah arc year heaven park...\n",
       "56459    well steve yeah threw door said come back some...\n",
       "                               ...                        \n",
       "18528    chorus leaves brown sky gray walk winter day s...\n",
       "34563    want lonely mansion tear every room want love ...\n",
       "30775    keep hopes dreams inside amongst things mother...\n",
       "44520    child laid rest mary lap sleeping angels greet...\n",
       "28529    listen sound ya living high mighty living high...\n",
       "Name: tags, Length: 50000, dtype: object"
      ]
     },
     "execution_count": 130,
     "metadata": {},
     "output_type": "execute_result"
    }
   ],
   "source": [
    "newsongs.tags"
   ]
  },
  {
   "cell_type": "code",
   "execution_count": 131,
   "id": "97dd501d",
   "metadata": {},
   "outputs": [
    {
     "data": {
      "text/html": [
       "<div>\n",
       "<style scoped>\n",
       "    .dataframe tbody tr th:only-of-type {\n",
       "        vertical-align: middle;\n",
       "    }\n",
       "\n",
       "    .dataframe tbody tr th {\n",
       "        vertical-align: top;\n",
       "    }\n",
       "\n",
       "    .dataframe thead th {\n",
       "        text-align: right;\n",
       "    }\n",
       "</style>\n",
       "<table border=\"1\" class=\"dataframe\">\n",
       "  <thead>\n",
       "    <tr style=\"text-align: right;\">\n",
       "      <th></th>\n",
       "      <th>artist</th>\n",
       "      <th>song</th>\n",
       "      <th>tags</th>\n",
       "    </tr>\n",
       "  </thead>\n",
       "  <tbody>\n",
       "    <tr>\n",
       "      <th>50033</th>\n",
       "      <td>Ramones</td>\n",
       "      <td>Lisa Got A Haircut</td>\n",
       "      <td>verse lisa got haircut another one today stuck...</td>\n",
       "    </tr>\n",
       "    <tr>\n",
       "      <th>9803</th>\n",
       "      <td>Josh Groban</td>\n",
       "      <td>Never Let Go</td>\n",
       "      <td>ca understand search answer met darker day han...</td>\n",
       "    </tr>\n",
       "    <tr>\n",
       "      <th>56420</th>\n",
       "      <td>Widespread Panic</td>\n",
       "      <td>Better Off</td>\n",
       "      <td>funnin round grandpa farm really groovin baby ...</td>\n",
       "    </tr>\n",
       "    <tr>\n",
       "      <th>26209</th>\n",
       "      <td>Boney M.</td>\n",
       "      <td>Exodus</td>\n",
       "      <td>get board silver sun noah arc year heaven park...</td>\n",
       "    </tr>\n",
       "    <tr>\n",
       "      <th>56459</th>\n",
       "      <td>Widespread Panic</td>\n",
       "      <td>One Arm Steve</td>\n",
       "      <td>well steve yeah threw door said come back some...</td>\n",
       "    </tr>\n",
       "  </tbody>\n",
       "</table>\n",
       "</div>"
      ],
      "text/plain": [
       "                 artist                song  \\\n",
       "50033           Ramones  Lisa Got A Haircut   \n",
       "9803        Josh Groban        Never Let Go   \n",
       "56420  Widespread Panic          Better Off   \n",
       "26209          Boney M.              Exodus   \n",
       "56459  Widespread Panic       One Arm Steve   \n",
       "\n",
       "                                                    tags  \n",
       "50033  verse lisa got haircut another one today stuck...  \n",
       "9803   ca understand search answer met darker day han...  \n",
       "56420  funnin round grandpa farm really groovin baby ...  \n",
       "26209  get board silver sun noah arc year heaven park...  \n",
       "56459  well steve yeah threw door said come back some...  "
      ]
     },
     "execution_count": 131,
     "metadata": {},
     "output_type": "execute_result"
    }
   ],
   "source": [
    "newsongs.head()"
   ]
  },
  {
   "cell_type": "code",
   "execution_count": 132,
   "id": "01df0e26",
   "metadata": {},
   "outputs": [],
   "source": [
    "from nltk.stem import PorterStemmer\n",
    "ps = PorterStemmer()"
   ]
  },
  {
   "cell_type": "code",
   "execution_count": 133,
   "id": "2dac39b5",
   "metadata": {},
   "outputs": [],
   "source": [
    "#function to stem the words\n",
    "def stemmer(text):\n",
    "    stemmed = [ps.stem(w) for w in text.split()]\n",
    "    return \" \".join(stemmed)\n",
    "    "
   ]
  },
  {
   "cell_type": "code",
   "execution_count": 134,
   "id": "c00a948f",
   "metadata": {},
   "outputs": [],
   "source": [
    "# stemmer('You are beautiful')"
   ]
  },
  {
   "cell_type": "code",
   "execution_count": 135,
   "id": "cd80264c",
   "metadata": {},
   "outputs": [],
   "source": [
    "newsongs['tags'] = newsongs['tags'].apply(stemmer)"
   ]
  },
  {
   "cell_type": "code",
   "execution_count": null,
   "id": "74c5747a",
   "metadata": {},
   "outputs": [],
   "source": []
  },
  {
   "cell_type": "code",
   "execution_count": 136,
   "id": "e8ba59c3",
   "metadata": {},
   "outputs": [
    {
     "data": {
      "text/plain": [
       "'iri day come play let angel fli let devil die got time hand ali boom mah yeah ali boom mah yeah worri mind test time five year good old day one know futur hold everyth season time war time peac tomorrow know tomorrow woe rememb grandpa use say grandson good old day good old day come moon starri light begin night life tribal danc put tranc pull magic swing ask celebr said good old day good old day futur let cherish moment know good old day ziggymarley'"
      ]
     },
     "execution_count": 136,
     "metadata": {},
     "output_type": "execute_result"
    }
   ],
   "source": [
    "# newsongs.tags[57645]"
   ]
  },
  {
   "cell_type": "code",
   "execution_count": 137,
   "id": "50088ed0",
   "metadata": {},
   "outputs": [
    {
     "data": {
      "text/plain": [
       "'iri day come play let angel fli let devil die got time hand ali boom mah yeah ali boom mah yeah worri mind test time five year good old day one know futur hold everyth season time war time peac tomorrow know tomorrow woe rememb grandpa use say grandson good old day good old day come moon starri light begin night life tribal danc put tranc pull magic swing ask celebr said good old day good old day futur let cherish moment know good old day ziggymarley'"
      ]
     },
     "execution_count": 137,
     "metadata": {},
     "output_type": "execute_result"
    }
   ],
   "source": [
    "# newsongs.tags[57645]"
   ]
  },
  {
   "cell_type": "code",
   "execution_count": 138,
   "id": "2218a7c4",
   "metadata": {},
   "outputs": [
    {
     "data": {
      "text/html": [
       "<div>\n",
       "<style scoped>\n",
       "    .dataframe tbody tr th:only-of-type {\n",
       "        vertical-align: middle;\n",
       "    }\n",
       "\n",
       "    .dataframe tbody tr th {\n",
       "        vertical-align: top;\n",
       "    }\n",
       "\n",
       "    .dataframe thead th {\n",
       "        text-align: right;\n",
       "    }\n",
       "</style>\n",
       "<table border=\"1\" class=\"dataframe\">\n",
       "  <thead>\n",
       "    <tr style=\"text-align: right;\">\n",
       "      <th></th>\n",
       "      <th>artist</th>\n",
       "      <th>song</th>\n",
       "      <th>tags</th>\n",
       "    </tr>\n",
       "  </thead>\n",
       "  <tbody>\n",
       "    <tr>\n",
       "      <th>50033</th>\n",
       "      <td>Ramones</td>\n",
       "      <td>Lisa Got A Haircut</td>\n",
       "      <td>vers lisa got haircut anoth one today stuck pa...</td>\n",
       "    </tr>\n",
       "    <tr>\n",
       "      <th>9803</th>\n",
       "      <td>Josh Groban</td>\n",
       "      <td>Never Let Go</td>\n",
       "      <td>ca understand search answer met darker day han...</td>\n",
       "    </tr>\n",
       "    <tr>\n",
       "      <th>56420</th>\n",
       "      <td>Widespread Panic</td>\n",
       "      <td>Better Off</td>\n",
       "      <td>funnin round grandpa farm realli groovin babi ...</td>\n",
       "    </tr>\n",
       "    <tr>\n",
       "      <th>26209</th>\n",
       "      <td>Boney M.</td>\n",
       "      <td>Exodus</td>\n",
       "      <td>get board silver sun noah arc year heaven park...</td>\n",
       "    </tr>\n",
       "    <tr>\n",
       "      <th>56459</th>\n",
       "      <td>Widespread Panic</td>\n",
       "      <td>One Arm Steve</td>\n",
       "      <td>well steve yeah threw door said come back some...</td>\n",
       "    </tr>\n",
       "    <tr>\n",
       "      <th>...</th>\n",
       "      <td>...</td>\n",
       "      <td>...</td>\n",
       "      <td>...</td>\n",
       "    </tr>\n",
       "    <tr>\n",
       "      <th>18528</th>\n",
       "      <td>Sia</td>\n",
       "      <td>California Dreamin'</td>\n",
       "      <td>choru leav brown sky gray walk winter day safe...</td>\n",
       "    </tr>\n",
       "    <tr>\n",
       "      <th>34563</th>\n",
       "      <td>Grateful Dead</td>\n",
       "      <td>Silver Threads And Golden Needles</td>\n",
       "      <td>want lone mansion tear everi room want love pr...</td>\n",
       "    </tr>\n",
       "    <tr>\n",
       "      <th>30775</th>\n",
       "      <td>Ed Sheeran</td>\n",
       "      <td>These Dreams</td>\n",
       "      <td>keep hope dream insid amongst thing mother see...</td>\n",
       "    </tr>\n",
       "    <tr>\n",
       "      <th>44520</th>\n",
       "      <td>Moody Blues</td>\n",
       "      <td>What Child Is This</td>\n",
       "      <td>child laid rest mari lap sleep angel greet ant...</td>\n",
       "    </tr>\n",
       "    <tr>\n",
       "      <th>28529</th>\n",
       "      <td>Cyndi Lauper</td>\n",
       "      <td>High And Mighty</td>\n",
       "      <td>listen sound ya live high mighti live high mig...</td>\n",
       "    </tr>\n",
       "  </tbody>\n",
       "</table>\n",
       "<p>50000 rows × 3 columns</p>\n",
       "</div>"
      ],
      "text/plain": [
       "                 artist                               song  \\\n",
       "50033           Ramones                 Lisa Got A Haircut   \n",
       "9803        Josh Groban                       Never Let Go   \n",
       "56420  Widespread Panic                         Better Off   \n",
       "26209          Boney M.                             Exodus   \n",
       "56459  Widespread Panic                      One Arm Steve   \n",
       "...                 ...                                ...   \n",
       "18528               Sia                California Dreamin'   \n",
       "34563     Grateful Dead  Silver Threads And Golden Needles   \n",
       "30775        Ed Sheeran                       These Dreams   \n",
       "44520       Moody Blues                 What Child Is This   \n",
       "28529      Cyndi Lauper                    High And Mighty   \n",
       "\n",
       "                                                    tags  \n",
       "50033  vers lisa got haircut anoth one today stuck pa...  \n",
       "9803   ca understand search answer met darker day han...  \n",
       "56420  funnin round grandpa farm realli groovin babi ...  \n",
       "26209  get board silver sun noah arc year heaven park...  \n",
       "56459  well steve yeah threw door said come back some...  \n",
       "...                                                  ...  \n",
       "18528  choru leav brown sky gray walk winter day safe...  \n",
       "34563  want lone mansion tear everi room want love pr...  \n",
       "30775  keep hope dream insid amongst thing mother see...  \n",
       "44520  child laid rest mari lap sleep angel greet ant...  \n",
       "28529  listen sound ya live high mighti live high mig...  \n",
       "\n",
       "[50000 rows x 3 columns]"
      ]
     },
     "execution_count": 138,
     "metadata": {},
     "output_type": "execute_result"
    }
   ],
   "source": [
    "newsongs"
   ]
  },
  {
   "cell_type": "code",
   "execution_count": 148,
   "id": "11276487",
   "metadata": {},
   "outputs": [],
   "source": [
    "newsongs = newsongs.sample(10000).sort_index()"
   ]
  },
  {
   "cell_type": "code",
   "execution_count": 157,
   "id": "20e7639a",
   "metadata": {},
   "outputs": [],
   "source": [
    "newsongs.reset_index(drop= True, inplace= True)"
   ]
  },
  {
   "cell_type": "code",
   "execution_count": 158,
   "id": "116f9118",
   "metadata": {},
   "outputs": [
    {
     "data": {
      "text/html": [
       "<div>\n",
       "<style scoped>\n",
       "    .dataframe tbody tr th:only-of-type {\n",
       "        vertical-align: middle;\n",
       "    }\n",
       "\n",
       "    .dataframe tbody tr th {\n",
       "        vertical-align: top;\n",
       "    }\n",
       "\n",
       "    .dataframe thead th {\n",
       "        text-align: right;\n",
       "    }\n",
       "</style>\n",
       "<table border=\"1\" class=\"dataframe\">\n",
       "  <thead>\n",
       "    <tr style=\"text-align: right;\">\n",
       "      <th></th>\n",
       "      <th>artist</th>\n",
       "      <th>song</th>\n",
       "      <th>tags</th>\n",
       "    </tr>\n",
       "  </thead>\n",
       "  <tbody>\n",
       "    <tr>\n",
       "      <th>0</th>\n",
       "      <td>ABBA</td>\n",
       "      <td>Ahe's My Kind Of Girl</td>\n",
       "      <td>look face wonder face mean someth special look...</td>\n",
       "    </tr>\n",
       "    <tr>\n",
       "      <th>1</th>\n",
       "      <td>ABBA</td>\n",
       "      <td>Disillusion</td>\n",
       "      <td>chang move circl see face dream smile laugh sh...</td>\n",
       "    </tr>\n",
       "    <tr>\n",
       "      <th>2</th>\n",
       "      <td>ABBA</td>\n",
       "      <td>Does Your Mother Know</td>\n",
       "      <td>hot teas blue ca take chanc chick like someth ...</td>\n",
       "    </tr>\n",
       "    <tr>\n",
       "      <th>3</th>\n",
       "      <td>ABBA</td>\n",
       "      <td>Dream World</td>\n",
       "      <td>agnetha star hollywood movi use pretend charm ...</td>\n",
       "    </tr>\n",
       "    <tr>\n",
       "      <th>4</th>\n",
       "      <td>ABBA</td>\n",
       "      <td>Dum Dum Diddle</td>\n",
       "      <td>hear work practis hard play night day sound be...</td>\n",
       "    </tr>\n",
       "    <tr>\n",
       "      <th>...</th>\n",
       "      <td>...</td>\n",
       "      <td>...</td>\n",
       "      <td>...</td>\n",
       "    </tr>\n",
       "    <tr>\n",
       "      <th>9995</th>\n",
       "      <td>Zebrahead</td>\n",
       "      <td>Mental Health</td>\n",
       "      <td>let go light one home yeah type guy left alon ...</td>\n",
       "    </tr>\n",
       "    <tr>\n",
       "      <th>9996</th>\n",
       "      <td>Ziggy Marley</td>\n",
       "      <td>G7</td>\n",
       "      <td>seven richest countri world littl meet plan ke...</td>\n",
       "    </tr>\n",
       "    <tr>\n",
       "      <th>9997</th>\n",
       "      <td>Ziggy Marley</td>\n",
       "      <td>Generation</td>\n",
       "      <td>mani gener pass away fight caus fight today pe...</td>\n",
       "    </tr>\n",
       "    <tr>\n",
       "      <th>9998</th>\n",
       "      <td>Ziggy Marley</td>\n",
       "      <td>Good Old Days</td>\n",
       "      <td>iri day come play let angel fli let devil die ...</td>\n",
       "    </tr>\n",
       "    <tr>\n",
       "      <th>9999</th>\n",
       "      <td>Zwan</td>\n",
       "      <td>Heartsong</td>\n",
       "      <td>come make home bit late hate make wait heart s...</td>\n",
       "    </tr>\n",
       "  </tbody>\n",
       "</table>\n",
       "<p>10000 rows × 3 columns</p>\n",
       "</div>"
      ],
      "text/plain": [
       "            artist                   song  \\\n",
       "0             ABBA  Ahe's My Kind Of Girl   \n",
       "1             ABBA            Disillusion   \n",
       "2             ABBA  Does Your Mother Know   \n",
       "3             ABBA            Dream World   \n",
       "4             ABBA         Dum Dum Diddle   \n",
       "...            ...                    ...   \n",
       "9995     Zebrahead          Mental Health   \n",
       "9996  Ziggy Marley                     G7   \n",
       "9997  Ziggy Marley             Generation   \n",
       "9998  Ziggy Marley          Good Old Days   \n",
       "9999          Zwan              Heartsong   \n",
       "\n",
       "                                                   tags  \n",
       "0     look face wonder face mean someth special look...  \n",
       "1     chang move circl see face dream smile laugh sh...  \n",
       "2     hot teas blue ca take chanc chick like someth ...  \n",
       "3     agnetha star hollywood movi use pretend charm ...  \n",
       "4     hear work practis hard play night day sound be...  \n",
       "...                                                 ...  \n",
       "9995  let go light one home yeah type guy left alon ...  \n",
       "9996  seven richest countri world littl meet plan ke...  \n",
       "9997  mani gener pass away fight caus fight today pe...  \n",
       "9998  iri day come play let angel fli let devil die ...  \n",
       "9999  come make home bit late hate make wait heart s...  \n",
       "\n",
       "[10000 rows x 3 columns]"
      ]
     },
     "execution_count": 158,
     "metadata": {},
     "output_type": "execute_result"
    }
   ],
   "source": [
    "newsongs"
   ]
  },
  {
   "cell_type": "code",
   "execution_count": 150,
   "id": "269f06a6",
   "metadata": {},
   "outputs": [],
   "source": [
    "from sklearn.feature_extraction.text import CountVectorizer\n",
    "from sklearn.metrics.pairwise import cosine_similarity\n",
    "cv = CountVectorizer(analyzer='word', stop_words='english', max_features= 5000)"
   ]
  },
  {
   "cell_type": "code",
   "execution_count": 159,
   "id": "a68b4ad1",
   "metadata": {},
   "outputs": [
    {
     "data": {
      "text/plain": [
       "array([[0, 0, 1, ..., 0, 0, 0],\n",
       "       [0, 0, 1, ..., 0, 0, 0],\n",
       "       [0, 0, 1, ..., 0, 0, 0],\n",
       "       ...,\n",
       "       [0, 0, 0, ..., 0, 0, 0],\n",
       "       [0, 0, 0, ..., 0, 0, 0],\n",
       "       [0, 0, 0, ..., 0, 0, 0]], dtype=int64)"
      ]
     },
     "execution_count": 159,
     "metadata": {},
     "output_type": "execute_result"
    }
   ],
   "source": [
    "vectors = cv.fit_transform(newsongs['tags']).toarray()\n",
    "vectors"
   ]
  },
  {
   "cell_type": "code",
   "execution_count": 141,
   "id": "9bbed06a",
   "metadata": {},
   "outputs": [],
   "source": [
    "# print([i for i in cv.get_feature_names_out()])"
   ]
  },
  {
   "cell_type": "code",
   "execution_count": 160,
   "id": "502da203",
   "metadata": {},
   "outputs": [
    {
     "data": {
      "text/plain": [
       "(10000, 5000)"
      ]
     },
     "execution_count": 160,
     "metadata": {},
     "output_type": "execute_result"
    }
   ],
   "source": [
    "vectors.shape"
   ]
  },
  {
   "cell_type": "code",
   "execution_count": 170,
   "id": "cd288c6d",
   "metadata": {},
   "outputs": [],
   "source": [
    "similarity = cosine_similarity(vectors)"
   ]
  },
  {
   "cell_type": "code",
   "execution_count": null,
   "id": "e532da81",
   "metadata": {},
   "outputs": [],
   "source": []
  },
  {
   "cell_type": "code",
   "execution_count": 176,
   "id": "1f8c8268",
   "metadata": {},
   "outputs": [
    {
     "data": {
      "text/plain": [
       "[(1, 1.0000000000000004),\n",
       " (5525, 0.2524149167425064),\n",
       " (928, 0.24842746266581817),\n",
       " (1317, 0.23805205796465173),\n",
       " (8326, 0.23380271656562582),\n",
       " (8764, 0.22638462845343546)]"
      ]
     },
     "execution_count": 176,
     "metadata": {},
     "output_type": "execute_result"
    }
   ],
   "source": [
    "sorted(enumerate(cosine_similarity(vectors)[1]), reverse = True, key = lambda x: x[1])[:6]"
   ]
  },
  {
   "cell_type": "code",
   "execution_count": null,
   "id": "cb078d3b",
   "metadata": {},
   "outputs": [],
   "source": []
  },
  {
   "cell_type": "code",
   "execution_count": 183,
   "id": "2e2321ae",
   "metadata": {},
   "outputs": [],
   "source": [
    "def recommend(song):\n",
    "    song_index = newsongs[newsongs.song == 'Disillusion'].index[0]\n",
    "    song_list = sorted(enumerate(similarity[song_index]), reverse = True, key = lambda x: x[1])[1:6]\n",
    "    for i in song_list:\n",
    "        print(newsongs.iloc[i[0]]['song'])\n",
    "        \n",
    "    "
   ]
  },
  {
   "cell_type": "code",
   "execution_count": null,
   "id": "752b4295",
   "metadata": {},
   "outputs": [],
   "source": []
  },
  {
   "cell_type": "code",
   "execution_count": 173,
   "id": "4d090c8f",
   "metadata": {},
   "outputs": [
    {
     "data": {
      "text/plain": [
       "1"
      ]
     },
     "execution_count": 173,
     "metadata": {},
     "output_type": "execute_result"
    }
   ],
   "source": [
    "newsongs[newsongs.song == 'Disillusion'].index[0]"
   ]
  },
  {
   "cell_type": "code",
   "execution_count": 184,
   "id": "f53dd33c",
   "metadata": {},
   "outputs": [
    {
     "name": "stdout",
     "output_type": "stream",
     "text": [
      "Can't Change The World\n",
      "How Do I Stop Loving You\n",
      "I'd Still Want You\n",
      "Shame\n",
      "Your World\n"
     ]
    }
   ],
   "source": [
    "recommend('Disillusion')"
   ]
  },
  {
   "cell_type": "code",
   "execution_count": null,
   "id": "9a401042",
   "metadata": {},
   "outputs": [],
   "source": []
  },
  {
   "cell_type": "code",
   "execution_count": 180,
   "id": "46c72367",
   "metadata": {},
   "outputs": [
    {
     "data": {
      "text/plain": [
       "'Disillusion'"
      ]
     },
     "execution_count": 180,
     "metadata": {},
     "output_type": "execute_result"
    }
   ],
   "source": [
    "newsongs.iloc[1]['song']"
   ]
  },
  {
   "cell_type": "code",
   "execution_count": null,
   "id": "bf4ef3e1",
   "metadata": {},
   "outputs": [],
   "source": []
  }
 ],
 "metadata": {
  "kernelspec": {
   "display_name": "Python 3 (ipykernel)",
   "language": "python",
   "name": "python3"
  },
  "language_info": {
   "codemirror_mode": {
    "name": "ipython",
    "version": 3
   },
   "file_extension": ".py",
   "mimetype": "text/x-python",
   "name": "python",
   "nbconvert_exporter": "python",
   "pygments_lexer": "ipython3",
   "version": "3.9.18"
  }
 },
 "nbformat": 4,
 "nbformat_minor": 5
}

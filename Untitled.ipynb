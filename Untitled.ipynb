{
 "cells": [
  {
   "cell_type": "code",
   "execution_count": 1,
   "id": "dfad77f4",
   "metadata": {},
   "outputs": [],
   "source": [
    "import pandas as pd\n",
    "import numpy as np\n",
    "import warnings\n",
    "warnings.filterwarnings('ignore')"
   ]
  },
  {
   "cell_type": "code",
   "execution_count": 2,
   "id": "d38dfe0d",
   "metadata": {},
   "outputs": [
    {
     "data": {
      "text/html": [
       "<div>\n",
       "<style scoped>\n",
       "    .dataframe tbody tr th:only-of-type {\n",
       "        vertical-align: middle;\n",
       "    }\n",
       "\n",
       "    .dataframe tbody tr th {\n",
       "        vertical-align: top;\n",
       "    }\n",
       "\n",
       "    .dataframe thead th {\n",
       "        text-align: right;\n",
       "    }\n",
       "</style>\n",
       "<table border=\"1\" class=\"dataframe\">\n",
       "  <thead>\n",
       "    <tr style=\"text-align: right;\">\n",
       "      <th></th>\n",
       "      <th>artist</th>\n",
       "      <th>song</th>\n",
       "      <th>link</th>\n",
       "      <th>text</th>\n",
       "    </tr>\n",
       "  </thead>\n",
       "  <tbody>\n",
       "    <tr>\n",
       "      <th>0</th>\n",
       "      <td>ABBA</td>\n",
       "      <td>Ahe's My Kind Of Girl</td>\n",
       "      <td>/a/abba/ahes+my+kind+of+girl_20598417.html</td>\n",
       "      <td>Look at her face, it's a wonderful face  \\r\\nA...</td>\n",
       "    </tr>\n",
       "    <tr>\n",
       "      <th>1</th>\n",
       "      <td>ABBA</td>\n",
       "      <td>Andante, Andante</td>\n",
       "      <td>/a/abba/andante+andante_20002708.html</td>\n",
       "      <td>Take it easy with me, please  \\r\\nTouch me gen...</td>\n",
       "    </tr>\n",
       "    <tr>\n",
       "      <th>2</th>\n",
       "      <td>ABBA</td>\n",
       "      <td>As Good As New</td>\n",
       "      <td>/a/abba/as+good+as+new_20003033.html</td>\n",
       "      <td>I'll never know why I had to go  \\r\\nWhy I had...</td>\n",
       "    </tr>\n",
       "    <tr>\n",
       "      <th>3</th>\n",
       "      <td>ABBA</td>\n",
       "      <td>Bang</td>\n",
       "      <td>/a/abba/bang_20598415.html</td>\n",
       "      <td>Making somebody happy is a question of give an...</td>\n",
       "    </tr>\n",
       "    <tr>\n",
       "      <th>4</th>\n",
       "      <td>ABBA</td>\n",
       "      <td>Bang-A-Boomerang</td>\n",
       "      <td>/a/abba/bang+a+boomerang_20002668.html</td>\n",
       "      <td>Making somebody happy is a question of give an...</td>\n",
       "    </tr>\n",
       "  </tbody>\n",
       "</table>\n",
       "</div>"
      ],
      "text/plain": [
       "  artist                   song                                        link  \\\n",
       "0   ABBA  Ahe's My Kind Of Girl  /a/abba/ahes+my+kind+of+girl_20598417.html   \n",
       "1   ABBA       Andante, Andante       /a/abba/andante+andante_20002708.html   \n",
       "2   ABBA         As Good As New        /a/abba/as+good+as+new_20003033.html   \n",
       "3   ABBA                   Bang                  /a/abba/bang_20598415.html   \n",
       "4   ABBA       Bang-A-Boomerang      /a/abba/bang+a+boomerang_20002668.html   \n",
       "\n",
       "                                                text  \n",
       "0  Look at her face, it's a wonderful face  \\r\\nA...  \n",
       "1  Take it easy with me, please  \\r\\nTouch me gen...  \n",
       "2  I'll never know why I had to go  \\r\\nWhy I had...  \n",
       "3  Making somebody happy is a question of give an...  \n",
       "4  Making somebody happy is a question of give an...  "
      ]
     },
     "execution_count": 2,
     "metadata": {},
     "output_type": "execute_result"
    }
   ],
   "source": [
    "songs = pd.read_csv('spotify.csv')\n",
    "songs.head()"
   ]
  },
  {
   "cell_type": "code",
   "execution_count": 3,
   "id": "6036dbe4",
   "metadata": {},
   "outputs": [],
   "source": [
    "## drop link column\n",
    "songs.drop('link', axis = 1, inplace= True)"
   ]
  },
  {
   "cell_type": "code",
   "execution_count": 4,
   "id": "96fe6d97",
   "metadata": {},
   "outputs": [
    {
     "name": "stdout",
     "output_type": "stream",
     "text": [
      "<class 'pandas.core.frame.DataFrame'>\n",
      "RangeIndex: 57650 entries, 0 to 57649\n",
      "Data columns (total 3 columns):\n",
      " #   Column  Non-Null Count  Dtype \n",
      "---  ------  --------------  ----- \n",
      " 0   artist  57650 non-null  object\n",
      " 1   song    57650 non-null  object\n",
      " 2   text    57650 non-null  object\n",
      "dtypes: object(3)\n",
      "memory usage: 1.3+ MB\n"
     ]
    }
   ],
   "source": [
    "songs.info()"
   ]
  },
  {
   "cell_type": "markdown",
   "id": "06229f2c",
   "metadata": {},
   "source": [
    "#### Replace the \\n, \\r and anything with is not a valid word"
   ]
  },
  {
   "cell_type": "code",
   "execution_count": 5,
   "id": "cbf3d45e",
   "metadata": {},
   "outputs": [
    {
     "data": {
      "text/plain": [
       "\"Take it easy with me, please  \\r\\nTouch me gently like a summer evening breeze  \\r\\nTake your time, make it slow  \\r\\nAndante, Andante  \\r\\nJust let the feeling grow  \\r\\n  \\r\\nMake your fingers soft and light  \\r\\nLet your body be the velvet of the night  \\r\\nTouch my soul, you know how  \\r\\nAndante, Andante  \\r\\nGo slowly with me now  \\r\\n  \\r\\nI'm your music  \\r\\n(I am your music and I am your song)  \\r\\nI'm your song  \\r\\n(I am your music and I am your song)  \\r\\nPlay me time and time again and make me strong  \\r\\n(Play me again 'cause you're making me strong)  \\r\\nMake me sing, make me sound  \\r\\n(You make me sing and you make me)  \\r\\nAndante, Andante  \\r\\nTread lightly on my ground  \\r\\nAndante, Andante  \\r\\nOh please don't let me down  \\r\\n  \\r\\nThere's a shimmer in your eyes  \\r\\nLike the feeling of a thousand butterflies  \\r\\nPlease don't talk, go on, play  \\r\\nAndante, Andante  \\r\\nAnd let me float away  \\r\\n  \\r\\nI'm your music  \\r\\n(I am your music and I am your song)  \\r\\nI'm your song  \\r\\n(I am your music and I am your song)  \\r\\nPlay me time and time again and make me strong  \\r\\n(Play me again 'cause you're making me strong)  \\r\\nMake me sing, make me sound  \\r\\n(You make me sing and you make me)  \\r\\nAndante, Andante  \\r\\nTread lightly on my ground  \\r\\nAndante, Andante  \\r\\nOh please don't let me down  \\r\\n  \\r\\nMake me sing, make me sound  \\r\\n(You make me sing and you make me)  \\r\\nAndante, Andante  \\r\\nTread lightly on my ground  \\r\\nAndante, Andante  \\r\\nOh please don't let me down  \\r\\nAndante, Andante  \\r\\nOh please don't let me down\\r\\n\\r\\n\""
      ]
     },
     "execution_count": 5,
     "metadata": {},
     "output_type": "execute_result"
    }
   ],
   "source": [
    "songs.text[1]"
   ]
  },
  {
   "cell_type": "code",
   "execution_count": 6,
   "id": "9065f4c9",
   "metadata": {},
   "outputs": [],
   "source": [
    "# songs = songs.sample(50000)"
   ]
  },
  {
   "cell_type": "code",
   "execution_count": 7,
   "id": "ac35d5ac",
   "metadata": {},
   "outputs": [],
   "source": [
    "songs['text'] = songs['text'].str.replace('~[a-zA-Z ]', '', regex = True).str.replace('[\\n | \\r]', \" \", regex = True)\n",
    "songs['text'] = songs['text'].str.lower()"
   ]
  },
  {
   "cell_type": "code",
   "execution_count": 8,
   "id": "7ce81ff1",
   "metadata": {},
   "outputs": [
    {
     "data": {
      "text/plain": [
       "\"take it easy with me, please    touch me gently like a summer evening breeze    take your time, make it slow    andante, andante    just let the feeling grow        make your fingers soft and light    let your body be the velvet of the night    touch my soul, you know how    andante, andante    go slowly with me now        i'm your music    (i am your music and i am your song)    i'm your song    (i am your music and i am your song)    play me time and time again and make me strong    (play me again 'cause you're making me strong)    make me sing, make me sound    (you make me sing and you make me)    andante, andante    tread lightly on my ground    andante, andante    oh please don't let me down        there's a shimmer in your eyes    like the feeling of a thousand butterflies    please don't talk, go on, play    andante, andante    and let me float away        i'm your music    (i am your music and i am your song)    i'm your song    (i am your music and i am your song)    play me time and time again and make me strong    (play me again 'cause you're making me strong)    make me sing, make me sound    (you make me sing and you make me)    andante, andante    tread lightly on my ground    andante, andante    oh please don't let me down        make me sing, make me sound    (you make me sing and you make me)    andante, andante    tread lightly on my ground    andante, andante    oh please don't let me down    andante, andante    oh please don't let me down    \""
      ]
     },
     "execution_count": 8,
     "metadata": {},
     "output_type": "execute_result"
    }
   ],
   "source": [
    "songs.text[1]"
   ]
  },
  {
   "cell_type": "code",
   "execution_count": null,
   "id": "7ef7a046",
   "metadata": {},
   "outputs": [],
   "source": []
  },
  {
   "cell_type": "code",
   "execution_count": 9,
   "id": "bc0e562d",
   "metadata": {},
   "outputs": [],
   "source": [
    "from nltk.tokenize import word_tokenize\n",
    "from nltk.corpus import stopwords"
   ]
  },
  {
   "cell_type": "code",
   "execution_count": 10,
   "id": "db05e31f",
   "metadata": {},
   "outputs": [],
   "source": [
    "stopwords_list = stopwords.words('english')\n",
    "# print(stopwords_list)"
   ]
  },
  {
   "cell_type": "code",
   "execution_count": null,
   "id": "3fcd1d45",
   "metadata": {},
   "outputs": [],
   "source": []
  },
  {
   "cell_type": "code",
   "execution_count": 11,
   "id": "fb179257",
   "metadata": {},
   "outputs": [],
   "source": [
    "# Function to tokenize and remove stopwords from text\n",
    "def tokenizer(txt):\n",
    "    words = word_tokenize(txt)\n",
    "    #print(len(words))\n",
    "    #print(words)\n",
    "    return [word for word in words if word.isalpha() and word not in stopwords_list]\n",
    "    \n",
    "    "
   ]
  },
  {
   "cell_type": "code",
   "execution_count": 12,
   "id": "22b7e04e",
   "metadata": {},
   "outputs": [],
   "source": [
    "# Function to make artist column a list to add with text column for creating tags\n",
    "def check(text):\n",
    "    text = text.replace(' ', '')\n",
    "    text = text.lower()\n",
    "    return text.split()\n",
    "    "
   ]
  },
  {
   "cell_type": "code",
   "execution_count": 13,
   "id": "956a77fb",
   "metadata": {},
   "outputs": [],
   "source": [
    "songs['text'] = songs['text'].apply(tokenizer)"
   ]
  },
  {
   "cell_type": "code",
   "execution_count": 14,
   "id": "3a575ad4",
   "metadata": {},
   "outputs": [],
   "source": [
    "songs['artist_clean'] = songs['artist'].apply(check)"
   ]
  },
  {
   "cell_type": "code",
   "execution_count": 15,
   "id": "e9bda687",
   "metadata": {},
   "outputs": [],
   "source": [
    "# songs['artist_clean']"
   ]
  },
  {
   "cell_type": "code",
   "execution_count": 16,
   "id": "fb387756",
   "metadata": {},
   "outputs": [
    {
     "data": {
      "text/html": [
       "<div>\n",
       "<style scoped>\n",
       "    .dataframe tbody tr th:only-of-type {\n",
       "        vertical-align: middle;\n",
       "    }\n",
       "\n",
       "    .dataframe tbody tr th {\n",
       "        vertical-align: top;\n",
       "    }\n",
       "\n",
       "    .dataframe thead th {\n",
       "        text-align: right;\n",
       "    }\n",
       "</style>\n",
       "<table border=\"1\" class=\"dataframe\">\n",
       "  <thead>\n",
       "    <tr style=\"text-align: right;\">\n",
       "      <th></th>\n",
       "      <th>artist</th>\n",
       "      <th>song</th>\n",
       "      <th>text</th>\n",
       "      <th>artist_clean</th>\n",
       "    </tr>\n",
       "  </thead>\n",
       "  <tbody>\n",
       "    <tr>\n",
       "      <th>0</th>\n",
       "      <td>ABBA</td>\n",
       "      <td>Ahe's My Kind Of Girl</td>\n",
       "      <td>[look, face, wonderful, face, means, something...</td>\n",
       "      <td>[abba]</td>\n",
       "    </tr>\n",
       "    <tr>\n",
       "      <th>1</th>\n",
       "      <td>ABBA</td>\n",
       "      <td>Andante, Andante</td>\n",
       "      <td>[take, easy, please, touch, gently, like, summ...</td>\n",
       "      <td>[abba]</td>\n",
       "    </tr>\n",
       "    <tr>\n",
       "      <th>2</th>\n",
       "      <td>ABBA</td>\n",
       "      <td>As Good As New</td>\n",
       "      <td>[never, know, go, put, lousy, rotten, show, bo...</td>\n",
       "      <td>[abba]</td>\n",
       "    </tr>\n",
       "    <tr>\n",
       "      <th>3</th>\n",
       "      <td>ABBA</td>\n",
       "      <td>Bang</td>\n",
       "      <td>[making, somebody, happy, question, give, take...</td>\n",
       "      <td>[abba]</td>\n",
       "    </tr>\n",
       "    <tr>\n",
       "      <th>4</th>\n",
       "      <td>ABBA</td>\n",
       "      <td>Bang-A-Boomerang</td>\n",
       "      <td>[making, somebody, happy, question, give, take...</td>\n",
       "      <td>[abba]</td>\n",
       "    </tr>\n",
       "    <tr>\n",
       "      <th>...</th>\n",
       "      <td>...</td>\n",
       "      <td>...</td>\n",
       "      <td>...</td>\n",
       "      <td>...</td>\n",
       "    </tr>\n",
       "    <tr>\n",
       "      <th>57645</th>\n",
       "      <td>Ziggy Marley</td>\n",
       "      <td>Good Old Days</td>\n",
       "      <td>[irie, days, come, play, let, angels, fly, let...</td>\n",
       "      <td>[ziggymarley]</td>\n",
       "    </tr>\n",
       "    <tr>\n",
       "      <th>57646</th>\n",
       "      <td>Ziggy Marley</td>\n",
       "      <td>Hand To Mouth</td>\n",
       "      <td>[power, workers, power, power, workers, need, ...</td>\n",
       "      <td>[ziggymarley]</td>\n",
       "    </tr>\n",
       "    <tr>\n",
       "      <th>57647</th>\n",
       "      <td>Zwan</td>\n",
       "      <td>Come With Me</td>\n",
       "      <td>[need, something, believe, flashlights, hall, ...</td>\n",
       "      <td>[zwan]</td>\n",
       "    </tr>\n",
       "    <tr>\n",
       "      <th>57648</th>\n",
       "      <td>Zwan</td>\n",
       "      <td>Desire</td>\n",
       "      <td>[northern, star, frightened, go, rest, ca, sle...</td>\n",
       "      <td>[zwan]</td>\n",
       "    </tr>\n",
       "    <tr>\n",
       "      <th>57649</th>\n",
       "      <td>Zwan</td>\n",
       "      <td>Heartsong</td>\n",
       "      <td>[come, make, home, bit, late, hate, make, wait...</td>\n",
       "      <td>[zwan]</td>\n",
       "    </tr>\n",
       "  </tbody>\n",
       "</table>\n",
       "<p>57650 rows × 4 columns</p>\n",
       "</div>"
      ],
      "text/plain": [
       "             artist                   song  \\\n",
       "0              ABBA  Ahe's My Kind Of Girl   \n",
       "1              ABBA       Andante, Andante   \n",
       "2              ABBA         As Good As New   \n",
       "3              ABBA                   Bang   \n",
       "4              ABBA       Bang-A-Boomerang   \n",
       "...             ...                    ...   \n",
       "57645  Ziggy Marley          Good Old Days   \n",
       "57646  Ziggy Marley          Hand To Mouth   \n",
       "57647          Zwan           Come With Me   \n",
       "57648          Zwan                 Desire   \n",
       "57649          Zwan              Heartsong   \n",
       "\n",
       "                                                    text   artist_clean  \n",
       "0      [look, face, wonderful, face, means, something...         [abba]  \n",
       "1      [take, easy, please, touch, gently, like, summ...         [abba]  \n",
       "2      [never, know, go, put, lousy, rotten, show, bo...         [abba]  \n",
       "3      [making, somebody, happy, question, give, take...         [abba]  \n",
       "4      [making, somebody, happy, question, give, take...         [abba]  \n",
       "...                                                  ...            ...  \n",
       "57645  [irie, days, come, play, let, angels, fly, let...  [ziggymarley]  \n",
       "57646  [power, workers, power, power, workers, need, ...  [ziggymarley]  \n",
       "57647  [need, something, believe, flashlights, hall, ...         [zwan]  \n",
       "57648  [northern, star, frightened, go, rest, ca, sle...         [zwan]  \n",
       "57649  [come, make, home, bit, late, hate, make, wait...         [zwan]  \n",
       "\n",
       "[57650 rows x 4 columns]"
      ]
     },
     "execution_count": 16,
     "metadata": {},
     "output_type": "execute_result"
    }
   ],
   "source": [
    "songs"
   ]
  },
  {
   "cell_type": "code",
   "execution_count": 17,
   "id": "fcad4019",
   "metadata": {},
   "outputs": [
    {
     "data": {
      "text/plain": [
       "0    [look, face, wonderful, face, means, something...\n",
       "1    [take, easy, please, touch, gently, like, summ...\n",
       "2    [never, know, go, put, lousy, rotten, show, bo...\n",
       "3    [making, somebody, happy, question, give, take...\n",
       "4    [making, somebody, happy, question, give, take...\n",
       "Name: tags, dtype: object"
      ]
     },
     "execution_count": 17,
     "metadata": {},
     "output_type": "execute_result"
    }
   ],
   "source": [
    "songs['tags'] = songs['text'] + songs['artist_clean']\n",
    "songs['tags'].head()"
   ]
  },
  {
   "cell_type": "code",
   "execution_count": 18,
   "id": "542723e4",
   "metadata": {},
   "outputs": [
    {
     "data": {
      "text/plain": [
       "Index(['artist', 'song', 'text', 'artist_clean', 'tags'], dtype='object')"
      ]
     },
     "execution_count": 18,
     "metadata": {},
     "output_type": "execute_result"
    }
   ],
   "source": [
    "songs.columns"
   ]
  },
  {
   "cell_type": "code",
   "execution_count": 19,
   "id": "349d5c97",
   "metadata": {},
   "outputs": [
    {
     "data": {
      "text/html": [
       "<div>\n",
       "<style scoped>\n",
       "    .dataframe tbody tr th:only-of-type {\n",
       "        vertical-align: middle;\n",
       "    }\n",
       "\n",
       "    .dataframe tbody tr th {\n",
       "        vertical-align: top;\n",
       "    }\n",
       "\n",
       "    .dataframe thead th {\n",
       "        text-align: right;\n",
       "    }\n",
       "</style>\n",
       "<table border=\"1\" class=\"dataframe\">\n",
       "  <thead>\n",
       "    <tr style=\"text-align: right;\">\n",
       "      <th></th>\n",
       "      <th>artist</th>\n",
       "      <th>song</th>\n",
       "      <th>tags</th>\n",
       "    </tr>\n",
       "  </thead>\n",
       "  <tbody>\n",
       "    <tr>\n",
       "      <th>0</th>\n",
       "      <td>ABBA</td>\n",
       "      <td>Ahe's My Kind Of Girl</td>\n",
       "      <td>[look, face, wonderful, face, means, something...</td>\n",
       "    </tr>\n",
       "    <tr>\n",
       "      <th>1</th>\n",
       "      <td>ABBA</td>\n",
       "      <td>Andante, Andante</td>\n",
       "      <td>[take, easy, please, touch, gently, like, summ...</td>\n",
       "    </tr>\n",
       "    <tr>\n",
       "      <th>2</th>\n",
       "      <td>ABBA</td>\n",
       "      <td>As Good As New</td>\n",
       "      <td>[never, know, go, put, lousy, rotten, show, bo...</td>\n",
       "    </tr>\n",
       "    <tr>\n",
       "      <th>3</th>\n",
       "      <td>ABBA</td>\n",
       "      <td>Bang</td>\n",
       "      <td>[making, somebody, happy, question, give, take...</td>\n",
       "    </tr>\n",
       "    <tr>\n",
       "      <th>4</th>\n",
       "      <td>ABBA</td>\n",
       "      <td>Bang-A-Boomerang</td>\n",
       "      <td>[making, somebody, happy, question, give, take...</td>\n",
       "    </tr>\n",
       "    <tr>\n",
       "      <th>...</th>\n",
       "      <td>...</td>\n",
       "      <td>...</td>\n",
       "      <td>...</td>\n",
       "    </tr>\n",
       "    <tr>\n",
       "      <th>57645</th>\n",
       "      <td>Ziggy Marley</td>\n",
       "      <td>Good Old Days</td>\n",
       "      <td>[irie, days, come, play, let, angels, fly, let...</td>\n",
       "    </tr>\n",
       "    <tr>\n",
       "      <th>57646</th>\n",
       "      <td>Ziggy Marley</td>\n",
       "      <td>Hand To Mouth</td>\n",
       "      <td>[power, workers, power, power, workers, need, ...</td>\n",
       "    </tr>\n",
       "    <tr>\n",
       "      <th>57647</th>\n",
       "      <td>Zwan</td>\n",
       "      <td>Come With Me</td>\n",
       "      <td>[need, something, believe, flashlights, hall, ...</td>\n",
       "    </tr>\n",
       "    <tr>\n",
       "      <th>57648</th>\n",
       "      <td>Zwan</td>\n",
       "      <td>Desire</td>\n",
       "      <td>[northern, star, frightened, go, rest, ca, sle...</td>\n",
       "    </tr>\n",
       "    <tr>\n",
       "      <th>57649</th>\n",
       "      <td>Zwan</td>\n",
       "      <td>Heartsong</td>\n",
       "      <td>[come, make, home, bit, late, hate, make, wait...</td>\n",
       "    </tr>\n",
       "  </tbody>\n",
       "</table>\n",
       "<p>57650 rows × 3 columns</p>\n",
       "</div>"
      ],
      "text/plain": [
       "             artist                   song  \\\n",
       "0              ABBA  Ahe's My Kind Of Girl   \n",
       "1              ABBA       Andante, Andante   \n",
       "2              ABBA         As Good As New   \n",
       "3              ABBA                   Bang   \n",
       "4              ABBA       Bang-A-Boomerang   \n",
       "...             ...                    ...   \n",
       "57645  Ziggy Marley          Good Old Days   \n",
       "57646  Ziggy Marley          Hand To Mouth   \n",
       "57647          Zwan           Come With Me   \n",
       "57648          Zwan                 Desire   \n",
       "57649          Zwan              Heartsong   \n",
       "\n",
       "                                                    tags  \n",
       "0      [look, face, wonderful, face, means, something...  \n",
       "1      [take, easy, please, touch, gently, like, summ...  \n",
       "2      [never, know, go, put, lousy, rotten, show, bo...  \n",
       "3      [making, somebody, happy, question, give, take...  \n",
       "4      [making, somebody, happy, question, give, take...  \n",
       "...                                                  ...  \n",
       "57645  [irie, days, come, play, let, angels, fly, let...  \n",
       "57646  [power, workers, power, power, workers, need, ...  \n",
       "57647  [need, something, believe, flashlights, hall, ...  \n",
       "57648  [northern, star, frightened, go, rest, ca, sle...  \n",
       "57649  [come, make, home, bit, late, hate, make, wait...  \n",
       "\n",
       "[57650 rows x 3 columns]"
      ]
     },
     "execution_count": 19,
     "metadata": {},
     "output_type": "execute_result"
    }
   ],
   "source": [
    "newsongs = songs.drop(['text', 'artist_clean'], axis = 1)\n",
    "newsongs"
   ]
  },
  {
   "cell_type": "code",
   "execution_count": 20,
   "id": "9e94bda1",
   "metadata": {},
   "outputs": [
    {
     "data": {
      "text/plain": [
       "'look face wonderful face means something special look way smiles sees lucky one fellow kind girl makes feel fine could ever believe could mine kind girl without blue ever leaves could could go walk park holds squeezes hand go walking hours talking things plan kind girl makes feel fine could ever believe could mine kind girl without blue ever leaves could could abba'"
      ]
     },
     "execution_count": 20,
     "metadata": {},
     "output_type": "execute_result"
    }
   ],
   "source": [
    "\" \".join(newsongs.tags[0])"
   ]
  },
  {
   "cell_type": "code",
   "execution_count": 21,
   "id": "5ef477e9",
   "metadata": {},
   "outputs": [],
   "source": [
    "newsongs.tags = newsongs.tags.apply(lambda x : \" \".join(x))"
   ]
  },
  {
   "cell_type": "code",
   "execution_count": 22,
   "id": "bc1f61e1",
   "metadata": {},
   "outputs": [
    {
     "data": {
      "text/plain": [
       "0        look face wonderful face means something speci...\n",
       "1        take easy please touch gently like summer even...\n",
       "2        never know go put lousy rotten show boy tough ...\n",
       "3        making somebody happy question give take learn...\n",
       "4        making somebody happy question give take learn...\n",
       "                               ...                        \n",
       "57645    irie days come play let angels fly let devils ...\n",
       "57646    power workers power power workers need power p...\n",
       "57647    need something believe flashlights hall call c...\n",
       "57648    northern star frightened go rest ca sleep stil...\n",
       "57649    come make home bit late hate make wait heart s...\n",
       "Name: tags, Length: 57650, dtype: object"
      ]
     },
     "execution_count": 22,
     "metadata": {},
     "output_type": "execute_result"
    }
   ],
   "source": [
    "newsongs.tags"
   ]
  },
  {
   "cell_type": "code",
   "execution_count": 23,
   "id": "97dd501d",
   "metadata": {},
   "outputs": [
    {
     "data": {
      "text/html": [
       "<div>\n",
       "<style scoped>\n",
       "    .dataframe tbody tr th:only-of-type {\n",
       "        vertical-align: middle;\n",
       "    }\n",
       "\n",
       "    .dataframe tbody tr th {\n",
       "        vertical-align: top;\n",
       "    }\n",
       "\n",
       "    .dataframe thead th {\n",
       "        text-align: right;\n",
       "    }\n",
       "</style>\n",
       "<table border=\"1\" class=\"dataframe\">\n",
       "  <thead>\n",
       "    <tr style=\"text-align: right;\">\n",
       "      <th></th>\n",
       "      <th>artist</th>\n",
       "      <th>song</th>\n",
       "      <th>tags</th>\n",
       "    </tr>\n",
       "  </thead>\n",
       "  <tbody>\n",
       "    <tr>\n",
       "      <th>0</th>\n",
       "      <td>ABBA</td>\n",
       "      <td>Ahe's My Kind Of Girl</td>\n",
       "      <td>look face wonderful face means something speci...</td>\n",
       "    </tr>\n",
       "    <tr>\n",
       "      <th>1</th>\n",
       "      <td>ABBA</td>\n",
       "      <td>Andante, Andante</td>\n",
       "      <td>take easy please touch gently like summer even...</td>\n",
       "    </tr>\n",
       "    <tr>\n",
       "      <th>2</th>\n",
       "      <td>ABBA</td>\n",
       "      <td>As Good As New</td>\n",
       "      <td>never know go put lousy rotten show boy tough ...</td>\n",
       "    </tr>\n",
       "    <tr>\n",
       "      <th>3</th>\n",
       "      <td>ABBA</td>\n",
       "      <td>Bang</td>\n",
       "      <td>making somebody happy question give take learn...</td>\n",
       "    </tr>\n",
       "    <tr>\n",
       "      <th>4</th>\n",
       "      <td>ABBA</td>\n",
       "      <td>Bang-A-Boomerang</td>\n",
       "      <td>making somebody happy question give take learn...</td>\n",
       "    </tr>\n",
       "  </tbody>\n",
       "</table>\n",
       "</div>"
      ],
      "text/plain": [
       "  artist                   song  \\\n",
       "0   ABBA  Ahe's My Kind Of Girl   \n",
       "1   ABBA       Andante, Andante   \n",
       "2   ABBA         As Good As New   \n",
       "3   ABBA                   Bang   \n",
       "4   ABBA       Bang-A-Boomerang   \n",
       "\n",
       "                                                tags  \n",
       "0  look face wonderful face means something speci...  \n",
       "1  take easy please touch gently like summer even...  \n",
       "2  never know go put lousy rotten show boy tough ...  \n",
       "3  making somebody happy question give take learn...  \n",
       "4  making somebody happy question give take learn...  "
      ]
     },
     "execution_count": 23,
     "metadata": {},
     "output_type": "execute_result"
    }
   ],
   "source": [
    "newsongs.head()"
   ]
  },
  {
   "cell_type": "code",
   "execution_count": 24,
   "id": "01df0e26",
   "metadata": {},
   "outputs": [],
   "source": [
    "from nltk.stem import PorterStemmer\n",
    "ps = PorterStemmer()"
   ]
  },
  {
   "cell_type": "code",
   "execution_count": 25,
   "id": "2dac39b5",
   "metadata": {},
   "outputs": [],
   "source": [
    "#function to stem the words\n",
    "def stemmer(text):\n",
    "    stemmed = [ps.stem(w) for w in text.split()]\n",
    "    return \" \".join(stemmed)\n",
    "    "
   ]
  },
  {
   "cell_type": "code",
   "execution_count": 26,
   "id": "c00a948f",
   "metadata": {},
   "outputs": [],
   "source": [
    "# stemmer('You are beautiful')"
   ]
  },
  {
   "cell_type": "code",
   "execution_count": 27,
   "id": "cd80264c",
   "metadata": {},
   "outputs": [],
   "source": [
    "newsongs['tags'] = newsongs['tags'].apply(stemmer)"
   ]
  },
  {
   "cell_type": "code",
   "execution_count": null,
   "id": "74c5747a",
   "metadata": {},
   "outputs": [],
   "source": []
  },
  {
   "cell_type": "code",
   "execution_count": 28,
   "id": "e8ba59c3",
   "metadata": {},
   "outputs": [],
   "source": [
    "# newsongs.tags[57645]"
   ]
  },
  {
   "cell_type": "code",
   "execution_count": 29,
   "id": "50088ed0",
   "metadata": {},
   "outputs": [],
   "source": [
    "# newsongs.tags[57645]"
   ]
  },
  {
   "cell_type": "code",
   "execution_count": 30,
   "id": "2218a7c4",
   "metadata": {},
   "outputs": [
    {
     "data": {
      "text/html": [
       "<div>\n",
       "<style scoped>\n",
       "    .dataframe tbody tr th:only-of-type {\n",
       "        vertical-align: middle;\n",
       "    }\n",
       "\n",
       "    .dataframe tbody tr th {\n",
       "        vertical-align: top;\n",
       "    }\n",
       "\n",
       "    .dataframe thead th {\n",
       "        text-align: right;\n",
       "    }\n",
       "</style>\n",
       "<table border=\"1\" class=\"dataframe\">\n",
       "  <thead>\n",
       "    <tr style=\"text-align: right;\">\n",
       "      <th></th>\n",
       "      <th>artist</th>\n",
       "      <th>song</th>\n",
       "      <th>tags</th>\n",
       "    </tr>\n",
       "  </thead>\n",
       "  <tbody>\n",
       "    <tr>\n",
       "      <th>0</th>\n",
       "      <td>ABBA</td>\n",
       "      <td>Ahe's My Kind Of Girl</td>\n",
       "      <td>look face wonder face mean someth special look...</td>\n",
       "    </tr>\n",
       "    <tr>\n",
       "      <th>1</th>\n",
       "      <td>ABBA</td>\n",
       "      <td>Andante, Andante</td>\n",
       "      <td>take easi pleas touch gentli like summer even ...</td>\n",
       "    </tr>\n",
       "    <tr>\n",
       "      <th>2</th>\n",
       "      <td>ABBA</td>\n",
       "      <td>As Good As New</td>\n",
       "      <td>never know go put lousi rotten show boy tough ...</td>\n",
       "    </tr>\n",
       "    <tr>\n",
       "      <th>3</th>\n",
       "      <td>ABBA</td>\n",
       "      <td>Bang</td>\n",
       "      <td>make somebodi happi question give take learn s...</td>\n",
       "    </tr>\n",
       "    <tr>\n",
       "      <th>4</th>\n",
       "      <td>ABBA</td>\n",
       "      <td>Bang-A-Boomerang</td>\n",
       "      <td>make somebodi happi question give take learn s...</td>\n",
       "    </tr>\n",
       "    <tr>\n",
       "      <th>...</th>\n",
       "      <td>...</td>\n",
       "      <td>...</td>\n",
       "      <td>...</td>\n",
       "    </tr>\n",
       "    <tr>\n",
       "      <th>57645</th>\n",
       "      <td>Ziggy Marley</td>\n",
       "      <td>Good Old Days</td>\n",
       "      <td>iri day come play let angel fli let devil die ...</td>\n",
       "    </tr>\n",
       "    <tr>\n",
       "      <th>57646</th>\n",
       "      <td>Ziggy Marley</td>\n",
       "      <td>Hand To Mouth</td>\n",
       "      <td>power worker power power worker need power pow...</td>\n",
       "    </tr>\n",
       "    <tr>\n",
       "      <th>57647</th>\n",
       "      <td>Zwan</td>\n",
       "      <td>Come With Me</td>\n",
       "      <td>need someth believ flashlight hall call caus d...</td>\n",
       "    </tr>\n",
       "    <tr>\n",
       "      <th>57648</th>\n",
       "      <td>Zwan</td>\n",
       "      <td>Desire</td>\n",
       "      <td>northern star frighten go rest ca sleep still ...</td>\n",
       "    </tr>\n",
       "    <tr>\n",
       "      <th>57649</th>\n",
       "      <td>Zwan</td>\n",
       "      <td>Heartsong</td>\n",
       "      <td>come make home bit late hate make wait heart s...</td>\n",
       "    </tr>\n",
       "  </tbody>\n",
       "</table>\n",
       "<p>57650 rows × 3 columns</p>\n",
       "</div>"
      ],
      "text/plain": [
       "             artist                   song  \\\n",
       "0              ABBA  Ahe's My Kind Of Girl   \n",
       "1              ABBA       Andante, Andante   \n",
       "2              ABBA         As Good As New   \n",
       "3              ABBA                   Bang   \n",
       "4              ABBA       Bang-A-Boomerang   \n",
       "...             ...                    ...   \n",
       "57645  Ziggy Marley          Good Old Days   \n",
       "57646  Ziggy Marley          Hand To Mouth   \n",
       "57647          Zwan           Come With Me   \n",
       "57648          Zwan                 Desire   \n",
       "57649          Zwan              Heartsong   \n",
       "\n",
       "                                                    tags  \n",
       "0      look face wonder face mean someth special look...  \n",
       "1      take easi pleas touch gentli like summer even ...  \n",
       "2      never know go put lousi rotten show boy tough ...  \n",
       "3      make somebodi happi question give take learn s...  \n",
       "4      make somebodi happi question give take learn s...  \n",
       "...                                                  ...  \n",
       "57645  iri day come play let angel fli let devil die ...  \n",
       "57646  power worker power power worker need power pow...  \n",
       "57647  need someth believ flashlight hall call caus d...  \n",
       "57648  northern star frighten go rest ca sleep still ...  \n",
       "57649  come make home bit late hate make wait heart s...  \n",
       "\n",
       "[57650 rows x 3 columns]"
      ]
     },
     "execution_count": 30,
     "metadata": {},
     "output_type": "execute_result"
    }
   ],
   "source": [
    "newsongs"
   ]
  },
  {
   "cell_type": "code",
   "execution_count": 31,
   "id": "11276487",
   "metadata": {},
   "outputs": [],
   "source": [
    "newsongs = newsongs.sample(15000).sort_index()"
   ]
  },
  {
   "cell_type": "code",
   "execution_count": 32,
   "id": "20e7639a",
   "metadata": {},
   "outputs": [],
   "source": [
    "newsongs.reset_index(drop= True, inplace= True)"
   ]
  },
  {
   "cell_type": "code",
   "execution_count": 33,
   "id": "116f9118",
   "metadata": {},
   "outputs": [
    {
     "data": {
      "text/html": [
       "<div>\n",
       "<style scoped>\n",
       "    .dataframe tbody tr th:only-of-type {\n",
       "        vertical-align: middle;\n",
       "    }\n",
       "\n",
       "    .dataframe tbody tr th {\n",
       "        vertical-align: top;\n",
       "    }\n",
       "\n",
       "    .dataframe thead th {\n",
       "        text-align: right;\n",
       "    }\n",
       "</style>\n",
       "<table border=\"1\" class=\"dataframe\">\n",
       "  <thead>\n",
       "    <tr style=\"text-align: right;\">\n",
       "      <th></th>\n",
       "      <th>artist</th>\n",
       "      <th>song</th>\n",
       "      <th>tags</th>\n",
       "    </tr>\n",
       "  </thead>\n",
       "  <tbody>\n",
       "    <tr>\n",
       "      <th>0</th>\n",
       "      <td>ABBA</td>\n",
       "      <td>Ahe's My Kind Of Girl</td>\n",
       "      <td>look face wonder face mean someth special look...</td>\n",
       "    </tr>\n",
       "    <tr>\n",
       "      <th>1</th>\n",
       "      <td>ABBA</td>\n",
       "      <td>Chiquitita</td>\n",
       "      <td>chiquitita tell wrong enchain sorrow eye hope ...</td>\n",
       "    </tr>\n",
       "    <tr>\n",
       "      <th>2</th>\n",
       "      <td>ABBA</td>\n",
       "      <td>Crying Over You</td>\n",
       "      <td>waitin babi sit alon feel cold without chill b...</td>\n",
       "    </tr>\n",
       "    <tr>\n",
       "      <th>3</th>\n",
       "      <td>ABBA</td>\n",
       "      <td>Happy New Year</td>\n",
       "      <td>champagn firework feel lost feel blue end part...</td>\n",
       "    </tr>\n",
       "    <tr>\n",
       "      <th>4</th>\n",
       "      <td>ABBA</td>\n",
       "      <td>He Is Your Brother</td>\n",
       "      <td>benni fighter alway look troubl life empti not...</td>\n",
       "    </tr>\n",
       "    <tr>\n",
       "      <th>...</th>\n",
       "      <td>...</td>\n",
       "      <td>...</td>\n",
       "      <td>...</td>\n",
       "    </tr>\n",
       "    <tr>\n",
       "      <th>14995</th>\n",
       "      <td>Zebrahead</td>\n",
       "      <td>The Real Me</td>\n",
       "      <td>know girl welcom world think though world spoi...</td>\n",
       "    </tr>\n",
       "    <tr>\n",
       "      <th>14996</th>\n",
       "      <td>Zebrahead</td>\n",
       "      <td>The Setup</td>\n",
       "      <td>lie tell everyth right lie say mean anyth go k...</td>\n",
       "    </tr>\n",
       "    <tr>\n",
       "      <th>14997</th>\n",
       "      <td>Ziggy Marley</td>\n",
       "      <td>G7</td>\n",
       "      <td>seven richest countri world littl meet plan ke...</td>\n",
       "    </tr>\n",
       "    <tr>\n",
       "      <th>14998</th>\n",
       "      <td>Ziggy Marley</td>\n",
       "      <td>Hand To Mouth</td>\n",
       "      <td>power worker power power worker need power pow...</td>\n",
       "    </tr>\n",
       "    <tr>\n",
       "      <th>14999</th>\n",
       "      <td>Zwan</td>\n",
       "      <td>Come With Me</td>\n",
       "      <td>need someth believ flashlight hall call caus d...</td>\n",
       "    </tr>\n",
       "  </tbody>\n",
       "</table>\n",
       "<p>15000 rows × 3 columns</p>\n",
       "</div>"
      ],
      "text/plain": [
       "             artist                   song  \\\n",
       "0              ABBA  Ahe's My Kind Of Girl   \n",
       "1              ABBA             Chiquitita   \n",
       "2              ABBA        Crying Over You   \n",
       "3              ABBA         Happy New Year   \n",
       "4              ABBA     He Is Your Brother   \n",
       "...             ...                    ...   \n",
       "14995     Zebrahead            The Real Me   \n",
       "14996     Zebrahead              The Setup   \n",
       "14997  Ziggy Marley                     G7   \n",
       "14998  Ziggy Marley          Hand To Mouth   \n",
       "14999          Zwan           Come With Me   \n",
       "\n",
       "                                                    tags  \n",
       "0      look face wonder face mean someth special look...  \n",
       "1      chiquitita tell wrong enchain sorrow eye hope ...  \n",
       "2      waitin babi sit alon feel cold without chill b...  \n",
       "3      champagn firework feel lost feel blue end part...  \n",
       "4      benni fighter alway look troubl life empti not...  \n",
       "...                                                  ...  \n",
       "14995  know girl welcom world think though world spoi...  \n",
       "14996  lie tell everyth right lie say mean anyth go k...  \n",
       "14997  seven richest countri world littl meet plan ke...  \n",
       "14998  power worker power power worker need power pow...  \n",
       "14999  need someth believ flashlight hall call caus d...  \n",
       "\n",
       "[15000 rows x 3 columns]"
      ]
     },
     "execution_count": 33,
     "metadata": {},
     "output_type": "execute_result"
    }
   ],
   "source": [
    "newsongs"
   ]
  },
  {
   "cell_type": "code",
   "execution_count": 34,
   "id": "269f06a6",
   "metadata": {},
   "outputs": [],
   "source": [
    "from sklearn.feature_extraction.text import CountVectorizer\n",
    "from sklearn.metrics.pairwise import cosine_similarity\n",
    "cv = CountVectorizer(analyzer='word', stop_words='english', max_features= 5000)"
   ]
  },
  {
   "cell_type": "code",
   "execution_count": 35,
   "id": "a68b4ad1",
   "metadata": {},
   "outputs": [
    {
     "data": {
      "text/plain": [
       "array([[0, 0, 0, ..., 0, 0, 0],\n",
       "       [0, 0, 0, ..., 0, 0, 0],\n",
       "       [0, 0, 0, ..., 0, 0, 0],\n",
       "       ...,\n",
       "       [0, 0, 0, ..., 0, 0, 0],\n",
       "       [0, 0, 0, ..., 0, 0, 0],\n",
       "       [0, 0, 0, ..., 0, 0, 0]], dtype=int64)"
      ]
     },
     "execution_count": 35,
     "metadata": {},
     "output_type": "execute_result"
    }
   ],
   "source": [
    "vectors = cv.fit_transform(newsongs['tags']).toarray()\n",
    "vectors"
   ]
  },
  {
   "cell_type": "code",
   "execution_count": 36,
   "id": "9bbed06a",
   "metadata": {},
   "outputs": [],
   "source": [
    "# print([i for i in cv.get_feature_names_out()])"
   ]
  },
  {
   "cell_type": "code",
   "execution_count": 37,
   "id": "502da203",
   "metadata": {},
   "outputs": [
    {
     "data": {
      "text/plain": [
       "(15000, 5000)"
      ]
     },
     "execution_count": 37,
     "metadata": {},
     "output_type": "execute_result"
    }
   ],
   "source": [
    "vectors.shape"
   ]
  },
  {
   "cell_type": "code",
   "execution_count": 38,
   "id": "cd288c6d",
   "metadata": {},
   "outputs": [],
   "source": [
    "similarity = cosine_similarity(vectors)"
   ]
  },
  {
   "cell_type": "code",
   "execution_count": null,
   "id": "e532da81",
   "metadata": {},
   "outputs": [],
   "source": []
  },
  {
   "cell_type": "code",
   "execution_count": 62,
   "id": "1f8c8268",
   "metadata": {},
   "outputs": [
    {
     "data": {
      "text/plain": [
       "[(1, 0.9999999999999998),\n",
       " (10651, 0.5532512598464997),\n",
       " (7390, 0.4795861485056572),\n",
       " (4973, 0.46426112657123214),\n",
       " (2624, 0.4633591782020099),\n",
       " (1489, 0.45685867790487944)]"
      ]
     },
     "execution_count": 62,
     "metadata": {},
     "output_type": "execute_result"
    }
   ],
   "source": [
    "sorted(enumerate(similarity[1]), reverse = True, key = lambda x: x[1])[:6]"
   ]
  },
  {
   "cell_type": "code",
   "execution_count": 64,
   "id": "cb078d3b",
   "metadata": {},
   "outputs": [],
   "source": [
    "# sorted(enumerate(similarity[1]), reverse = True, key = lambda x: x[1])[:6]"
   ]
  },
  {
   "cell_type": "code",
   "execution_count": 51,
   "id": "2e2321ae",
   "metadata": {},
   "outputs": [],
   "source": [
    "def recommend(song):\n",
    "    song_index = newsongs[newsongs.song == song].index[0]\n",
    "    song_list = sorted(enumerate(similarity[song_index]), reverse = True, key = lambda x: x[1])[1:6]\n",
    "    for i in song_list:\n",
    "        print(newsongs.iloc[i[0]]['song'])\n",
    "        \n",
    "    "
   ]
  },
  {
   "cell_type": "code",
   "execution_count": null,
   "id": "752b4295",
   "metadata": {},
   "outputs": [],
   "source": []
  },
  {
   "cell_type": "code",
   "execution_count": 61,
   "id": "4d090c8f",
   "metadata": {},
   "outputs": [],
   "source": [
    "# newsongs[newsongs.song == 'Disillusion'].index[0]"
   ]
  },
  {
   "cell_type": "code",
   "execution_count": 52,
   "id": "f53dd33c",
   "metadata": {},
   "outputs": [
    {
     "name": "stdout",
     "output_type": "stream",
     "text": [
      "A Song I'd Like To Sing\n",
      "From A Distance\n",
      "I'm New\n",
      "Singing Over Me\n",
      "Song For Love\n"
     ]
    }
   ],
   "source": [
    "recommend('Chiquitita')"
   ]
  },
  {
   "cell_type": "code",
   "execution_count": 48,
   "id": "9a401042",
   "metadata": {},
   "outputs": [
    {
     "data": {
      "text/plain": [
       "1"
      ]
     },
     "execution_count": 48,
     "metadata": {},
     "output_type": "execute_result"
    }
   ],
   "source": [
    "newsongs[newsongs.song == 'Chiquitita'].index[0]"
   ]
  },
  {
   "cell_type": "code",
   "execution_count": 43,
   "id": "46c72367",
   "metadata": {},
   "outputs": [
    {
     "data": {
      "text/plain": [
       "'Chiquitita'"
      ]
     },
     "execution_count": 43,
     "metadata": {},
     "output_type": "execute_result"
    }
   ],
   "source": [
    "newsongs.iloc[1]['song']"
   ]
  },
  {
   "cell_type": "code",
   "execution_count": 56,
   "id": "bf4ef3e1",
   "metadata": {},
   "outputs": [],
   "source": [
    "# newsongs[newsongs.artist.str.contains('Back*')]"
   ]
  },
  {
   "cell_type": "code",
   "execution_count": null,
   "id": "f1bebce6",
   "metadata": {},
   "outputs": [],
   "source": []
  },
  {
   "cell_type": "code",
   "execution_count": 59,
   "id": "0c76bd6b",
   "metadata": {},
   "outputs": [],
   "source": [
    "def recommend2(song):\n",
    "    song_index = newsongs[newsongs.song == song].index[0]\n",
    "    song_list = sorted(enumerate(similarity[song_index]), reverse = True, key = lambda x: x[1])[1:6]\n",
    "    recommended_songs = []\n",
    "    for i in song_list:\n",
    "        recommended_songs.append(newsongs.iloc[i[0]]['song'])\n",
    "\n",
    "    return recommended_songs\n",
    "        \n",
    "    "
   ]
  },
  {
   "cell_type": "code",
   "execution_count": 60,
   "id": "7e7346a8",
   "metadata": {},
   "outputs": [
    {
     "data": {
      "text/plain": [
       "[\"A Song I'd Like To Sing\",\n",
       " 'From A Distance',\n",
       " \"I'm New\",\n",
       " 'Singing Over Me',\n",
       " 'Song For Love']"
      ]
     },
     "execution_count": 60,
     "metadata": {},
     "output_type": "execute_result"
    }
   ],
   "source": [
    "recommend2('Chiquitita')"
   ]
  },
  {
   "cell_type": "code",
   "execution_count": 65,
   "id": "2cd1041e",
   "metadata": {},
   "outputs": [],
   "source": [
    "import pickle"
   ]
  },
  {
   "cell_type": "code",
   "execution_count": 66,
   "id": "8733b739",
   "metadata": {},
   "outputs": [],
   "source": [
    "pickle.dump(newsongs, open('songs.pkl', 'wb'))"
   ]
  },
  {
   "cell_type": "code",
   "execution_count": 68,
   "id": "ffc0aae9",
   "metadata": {},
   "outputs": [],
   "source": [
    "pickle.dump(similarity, open('similarity.pkl', 'wb'))"
   ]
  },
  {
   "cell_type": "code",
   "execution_count": 80,
   "id": "18c161c7",
   "metadata": {},
   "outputs": [
    {
     "data": {
      "text/plain": [
       "'37i9dQZEVXbNG2KDcFcKOF'"
      ]
     },
     "execution_count": 80,
     "metadata": {},
     "output_type": "execute_result"
    }
   ],
   "source": [
    "playlist_link = \"https://open.spotify.com/playlist/37i9dQZEVXbNG2KDcFcKOF?si=1333723a6eff4b7f\"\n",
    "playlist_link.split(\"/\")[-1].split('?')[0]\n",
    "# playlist_URI = playlist_link.split(\"/\")[-1].split(\"?\")[0]\n"
   ]
  },
  {
   "cell_type": "code",
   "execution_count": null,
   "id": "9383a242",
   "metadata": {},
   "outputs": [],
   "source": []
  },
  {
   "cell_type": "code",
   "execution_count": null,
   "id": "992a54db",
   "metadata": {},
   "outputs": [],
   "source": []
  }
 ],
 "metadata": {
  "kernelspec": {
   "display_name": "Python 3 (ipykernel)",
   "language": "python",
   "name": "python3"
  },
  "language_info": {
   "codemirror_mode": {
    "name": "ipython",
    "version": 3
   },
   "file_extension": ".py",
   "mimetype": "text/x-python",
   "name": "python",
   "nbconvert_exporter": "python",
   "pygments_lexer": "ipython3",
   "version": "3.9.18"
  }
 },
 "nbformat": 4,
 "nbformat_minor": 5
}
